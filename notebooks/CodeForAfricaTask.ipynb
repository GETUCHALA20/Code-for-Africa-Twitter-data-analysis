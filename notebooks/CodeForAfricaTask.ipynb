{
  "nbformat": 4,
  "nbformat_minor": 0,
  "metadata": {
    "colab": {
      "name": "CodeForAfricaTask.ipynb",
      "provenance": [],
      "toc_visible": true
    },
    "kernelspec": {
      "display_name": "Python 3",
      "name": "python3"
    },
    "language_info": {
      "name": "python"
    }
  },
  "cells": [
    {
      "cell_type": "code",
      "metadata": {
        "id": "eaFV2kTaTiwO"
      },
      "source": [
        "import pandas as pd\n",
        "import numpy as np\n",
        "import matplotlib.pyplot as plt\n",
        "import seaborn as sns"
      ],
      "execution_count": 1,
      "outputs": []
    },
    {
      "cell_type": "code",
      "metadata": {
        "id": "jvdrBgvSVLyK"
      },
      "source": [
        "#read csv data fo sample tweets given\n",
        "df = pd.read_csv(\"drive/MyDrive/sample_tweets.csv\")"
      ],
      "execution_count": 9,
      "outputs": []
    },
    {
      "cell_type": "code",
      "metadata": {
        "colab": {
          "base_uri": "https://localhost:8080/",
          "height": 484
        },
        "id": "ZUUgtI0_Ve3L",
        "outputId": "301afd7a-13e5-4899-c74c-5397f2b4ce1d"
      },
      "source": [
        "#show five top elements\n",
        "df.head()"
      ],
      "execution_count": 10,
      "outputs": [
        {
          "output_type": "execute_result",
          "data": {
            "text/html": [
              "<div>\n",
              "<style scoped>\n",
              "    .dataframe tbody tr th:only-of-type {\n",
              "        vertical-align: middle;\n",
              "    }\n",
              "\n",
              "    .dataframe tbody tr th {\n",
              "        vertical-align: top;\n",
              "    }\n",
              "\n",
              "    .dataframe thead th {\n",
              "        text-align: right;\n",
              "    }\n",
              "</style>\n",
              "<table border=\"1\" class=\"dataframe\">\n",
              "  <thead>\n",
              "    <tr style=\"text-align: right;\">\n",
              "      <th></th>\n",
              "      <th>Unnamed: 0</th>\n",
              "      <th>author</th>\n",
              "      <th>content</th>\n",
              "      <th>region</th>\n",
              "      <th>language</th>\n",
              "      <th>publish_date</th>\n",
              "      <th>following</th>\n",
              "      <th>followers</th>\n",
              "      <th>post_type</th>\n",
              "      <th>account_type</th>\n",
              "      <th>retweet</th>\n",
              "      <th>account_category</th>\n",
              "      <th>tweet_id</th>\n",
              "      <th>article_url</th>\n",
              "      <th>tco1_step1</th>\n",
              "      <th>tco2_step1</th>\n",
              "      <th>tco3_step1</th>\n",
              "    </tr>\n",
              "  </thead>\n",
              "  <tbody>\n",
              "    <tr>\n",
              "      <th>0</th>\n",
              "      <td>0</td>\n",
              "      <td>ADNNELSTR</td>\n",
              "      <td>The empty podium says it all. The Marxists are...</td>\n",
              "      <td>Unknown</td>\n",
              "      <td>English</td>\n",
              "      <td>8/13/2017 21:00</td>\n",
              "      <td>946</td>\n",
              "      <td>83</td>\n",
              "      <td>NaN</td>\n",
              "      <td>Right</td>\n",
              "      <td>0</td>\n",
              "      <td>RightTroll</td>\n",
              "      <td>896838937028775937</td>\n",
              "      <td>http://twitter.com/893370639309996032/statuses...</td>\n",
              "      <td>https://twitter.com/i/web/status/8968383433838...</td>\n",
              "      <td>NaN</td>\n",
              "      <td>NaN</td>\n",
              "    </tr>\n",
              "    <tr>\n",
              "      <th>1</th>\n",
              "      <td>1</td>\n",
              "      <td>ATLANTA_ONLINE</td>\n",
              "      <td>Dust in your house may have toxic chemicals, s...</td>\n",
              "      <td>United States</td>\n",
              "      <td>English</td>\n",
              "      <td>9/15/2016 3:34</td>\n",
              "      <td>7825</td>\n",
              "      <td>17383</td>\n",
              "      <td>NaN</td>\n",
              "      <td>local</td>\n",
              "      <td>0</td>\n",
              "      <td>NewsFeed</td>\n",
              "      <td>776262908388839424</td>\n",
              "      <td>http://twitter.com/Atlanta_Online/statuses/776...</td>\n",
              "      <td>http://on-ajc.com/2coKeyO</td>\n",
              "      <td>NaN</td>\n",
              "      <td>NaN</td>\n",
              "    </tr>\n",
              "    <tr>\n",
              "      <th>2</th>\n",
              "      <td>2</td>\n",
              "      <td>ANTONHAYHAY</td>\n",
              "      <td>singers Get 1 million soundcloud plays for $45...</td>\n",
              "      <td>United States</td>\n",
              "      <td>English</td>\n",
              "      <td>3/3/2017 20:41</td>\n",
              "      <td>303</td>\n",
              "      <td>711</td>\n",
              "      <td>RETWEET</td>\n",
              "      <td>Left</td>\n",
              "      <td>1</td>\n",
              "      <td>LeftTroll</td>\n",
              "      <td>837764807826763781</td>\n",
              "      <td>http://twitter.com/1652262638/statuses/8377648...</td>\n",
              "      <td>https://twitter.com/jayceodpromoter/status/837...</td>\n",
              "      <td>http://bit.ly/2m4KZPJ</td>\n",
              "      <td>NaN</td>\n",
              "    </tr>\n",
              "    <tr>\n",
              "      <th>3</th>\n",
              "      <td>3</td>\n",
              "      <td>AMELIEBALDWIN</td>\n",
              "      <td>.@JohnsonHildy may be on to something about th...</td>\n",
              "      <td>United States</td>\n",
              "      <td>English</td>\n",
              "      <td>2/23/2017 2:05</td>\n",
              "      <td>2322</td>\n",
              "      <td>2743</td>\n",
              "      <td>RETWEET</td>\n",
              "      <td>Right</td>\n",
              "      <td>1</td>\n",
              "      <td>RightTroll</td>\n",
              "      <td>834584872111001601</td>\n",
              "      <td>http://twitter.com/1679279490/statuses/8345848...</td>\n",
              "      <td>http://www.washingtonexaminer.com/james-okeefe...</td>\n",
              "      <td>NaN</td>\n",
              "      <td>NaN</td>\n",
              "    </tr>\n",
              "    <tr>\n",
              "      <th>4</th>\n",
              "      <td>4</td>\n",
              "      <td>AMELIEBALDWIN</td>\n",
              "      <td>.@ViolaDavis just made #Oscars history, and it...</td>\n",
              "      <td>United States</td>\n",
              "      <td>English</td>\n",
              "      <td>1/25/2017 9:36</td>\n",
              "      <td>2340</td>\n",
              "      <td>2726</td>\n",
              "      <td>RETWEET</td>\n",
              "      <td>Right</td>\n",
              "      <td>1</td>\n",
              "      <td>RightTroll</td>\n",
              "      <td>824189182897754117</td>\n",
              "      <td>http://twitter.com/1679279490/statuses/8241891...</td>\n",
              "      <td>https://twitter.com/hellogiggles/status/824184...</td>\n",
              "      <td>http://trib.al/adflVAC</td>\n",
              "      <td>NaN</td>\n",
              "    </tr>\n",
              "  </tbody>\n",
              "</table>\n",
              "</div>"
            ],
            "text/plain": [
              "   Unnamed: 0          author  ...              tco2_step1 tco3_step1\n",
              "0           0       ADNNELSTR  ...                     NaN        NaN\n",
              "1           1  ATLANTA_ONLINE  ...                     NaN        NaN\n",
              "2           2     ANTONHAYHAY  ...   http://bit.ly/2m4KZPJ        NaN\n",
              "3           3   AMELIEBALDWIN  ...                     NaN        NaN\n",
              "4           4   AMELIEBALDWIN  ...  http://trib.al/adflVAC        NaN\n",
              "\n",
              "[5 rows x 17 columns]"
            ]
          },
          "metadata": {
            "tags": []
          },
          "execution_count": 10
        }
      ]
    },
    {
      "cell_type": "code",
      "metadata": {
        "colab": {
          "base_uri": "https://localhost:8080/"
        },
        "id": "A5Cc7XvrVrGa",
        "outputId": "4ca9b266-f1c9-43da-bb86-bcba88b81d76"
      },
      "source": [
        "#shape of the data\n",
        "df.shape"
      ],
      "execution_count": 11,
      "outputs": [
        {
          "output_type": "execute_result",
          "data": {
            "text/plain": [
              "(47708, 17)"
            ]
          },
          "metadata": {
            "tags": []
          },
          "execution_count": 11
        }
      ]
    },
    {
      "cell_type": "code",
      "metadata": {
        "colab": {
          "base_uri": "https://localhost:8080/"
        },
        "id": "Mb-qaUx4V8OG",
        "outputId": "aaf167fe-9c06-499a-9c56-44a414eaca2b"
      },
      "source": [
        "#display informantion of columns\n",
        "df.info()"
      ],
      "execution_count": 12,
      "outputs": [
        {
          "output_type": "stream",
          "text": [
            "<class 'pandas.core.frame.DataFrame'>\n",
            "RangeIndex: 47708 entries, 0 to 47707\n",
            "Data columns (total 17 columns):\n",
            " #   Column            Non-Null Count  Dtype \n",
            "---  ------            --------------  ----- \n",
            " 0   Unnamed: 0        47708 non-null  int64 \n",
            " 1   author            47708 non-null  object\n",
            " 2   content           47708 non-null  object\n",
            " 3   region            47704 non-null  object\n",
            " 4   language          47708 non-null  object\n",
            " 5   publish_date      47708 non-null  object\n",
            " 6   following         47708 non-null  int64 \n",
            " 7   followers         47708 non-null  int64 \n",
            " 8   post_type         26525 non-null  object\n",
            " 9   account_type      47708 non-null  object\n",
            " 10  retweet           47708 non-null  int64 \n",
            " 11  account_category  47708 non-null  object\n",
            " 12  tweet_id          47708 non-null  int64 \n",
            " 13  article_url       47708 non-null  object\n",
            " 14  tco1_step1        33206 non-null  object\n",
            " 15  tco2_step1        12505 non-null  object\n",
            " 16  tco3_step1        657 non-null    object\n",
            "dtypes: int64(5), object(12)\n",
            "memory usage: 6.2+ MB\n"
          ],
          "name": "stdout"
        }
      ]
    },
    {
      "cell_type": "markdown",
      "metadata": {
        "id": "635fKxX5WZMp"
      },
      "source": [
        "# Task 1"
      ]
    },
    {
      "cell_type": "markdown",
      "metadata": {
        "id": "SIxYc8qbWeXK"
      },
      "source": [
        "For a forensic investigation focusing on social network analysis, defining clusters or groups in a dataset is essential in understanding the formation of communities involved in shaping a particular conversation. An example would be identifying a group of accounts on Twitter that work together to push a particular topic or narrative.\n",
        "\n",
        "\n",
        "\n",
        "From the data provided above:\n",
        "\n",
        "a. What subgroups can you identify based on the volume of tweets in each category and the number of unique accounts for each?\n",
        "\n",
        "b. Who is the most prominent author for each category type?"
      ]
    },
    {
      "cell_type": "code",
      "metadata": {
        "colab": {
          "base_uri": "https://localhost:8080/",
          "height": 327
        },
        "id": "jjsyt6txWXtA",
        "outputId": "845df99a-f3d3-40fd-e434-848688266477"
      },
      "source": [
        "#show top 2\n",
        "df.head(2)"
      ],
      "execution_count": 13,
      "outputs": [
        {
          "output_type": "execute_result",
          "data": {
            "text/html": [
              "<div>\n",
              "<style scoped>\n",
              "    .dataframe tbody tr th:only-of-type {\n",
              "        vertical-align: middle;\n",
              "    }\n",
              "\n",
              "    .dataframe tbody tr th {\n",
              "        vertical-align: top;\n",
              "    }\n",
              "\n",
              "    .dataframe thead th {\n",
              "        text-align: right;\n",
              "    }\n",
              "</style>\n",
              "<table border=\"1\" class=\"dataframe\">\n",
              "  <thead>\n",
              "    <tr style=\"text-align: right;\">\n",
              "      <th></th>\n",
              "      <th>Unnamed: 0</th>\n",
              "      <th>author</th>\n",
              "      <th>content</th>\n",
              "      <th>region</th>\n",
              "      <th>language</th>\n",
              "      <th>publish_date</th>\n",
              "      <th>following</th>\n",
              "      <th>followers</th>\n",
              "      <th>post_type</th>\n",
              "      <th>account_type</th>\n",
              "      <th>retweet</th>\n",
              "      <th>account_category</th>\n",
              "      <th>tweet_id</th>\n",
              "      <th>article_url</th>\n",
              "      <th>tco1_step1</th>\n",
              "      <th>tco2_step1</th>\n",
              "      <th>tco3_step1</th>\n",
              "    </tr>\n",
              "  </thead>\n",
              "  <tbody>\n",
              "    <tr>\n",
              "      <th>0</th>\n",
              "      <td>0</td>\n",
              "      <td>ADNNELSTR</td>\n",
              "      <td>The empty podium says it all. The Marxists are...</td>\n",
              "      <td>Unknown</td>\n",
              "      <td>English</td>\n",
              "      <td>8/13/2017 21:00</td>\n",
              "      <td>946</td>\n",
              "      <td>83</td>\n",
              "      <td>NaN</td>\n",
              "      <td>Right</td>\n",
              "      <td>0</td>\n",
              "      <td>RightTroll</td>\n",
              "      <td>896838937028775937</td>\n",
              "      <td>http://twitter.com/893370639309996032/statuses...</td>\n",
              "      <td>https://twitter.com/i/web/status/8968383433838...</td>\n",
              "      <td>NaN</td>\n",
              "      <td>NaN</td>\n",
              "    </tr>\n",
              "    <tr>\n",
              "      <th>1</th>\n",
              "      <td>1</td>\n",
              "      <td>ATLANTA_ONLINE</td>\n",
              "      <td>Dust in your house may have toxic chemicals, s...</td>\n",
              "      <td>United States</td>\n",
              "      <td>English</td>\n",
              "      <td>9/15/2016 3:34</td>\n",
              "      <td>7825</td>\n",
              "      <td>17383</td>\n",
              "      <td>NaN</td>\n",
              "      <td>local</td>\n",
              "      <td>0</td>\n",
              "      <td>NewsFeed</td>\n",
              "      <td>776262908388839424</td>\n",
              "      <td>http://twitter.com/Atlanta_Online/statuses/776...</td>\n",
              "      <td>http://on-ajc.com/2coKeyO</td>\n",
              "      <td>NaN</td>\n",
              "      <td>NaN</td>\n",
              "    </tr>\n",
              "  </tbody>\n",
              "</table>\n",
              "</div>"
            ],
            "text/plain": [
              "   Unnamed: 0          author  ... tco2_step1 tco3_step1\n",
              "0           0       ADNNELSTR  ...        NaN        NaN\n",
              "1           1  ATLANTA_ONLINE  ...        NaN        NaN\n",
              "\n",
              "[2 rows x 17 columns]"
            ]
          },
          "metadata": {
            "tags": []
          },
          "execution_count": 13
        }
      ]
    },
    {
      "cell_type": "code",
      "metadata": {
        "colab": {
          "base_uri": "https://localhost:8080/"
        },
        "id": "oFFQOdqqWENZ",
        "outputId": "f766fe76-8455-4067-f547-dad307451877"
      },
      "source": [
        "#display account category options and volume of tweets belonged to each type\n",
        "df['account_category'].value_counts()"
      ],
      "execution_count": 14,
      "outputs": [
        {
          "output_type": "execute_result",
          "data": {
            "text/plain": [
              "RightTroll      28789\n",
              "LeftTroll        9036\n",
              "HashtagGamer     6929\n",
              "NewsFeed         2711\n",
              "Unknown           148\n",
              "Fearmonger         95\n",
              "Name: account_category, dtype: int64"
            ]
          },
          "metadata": {
            "tags": []
          },
          "execution_count": 14
        }
      ]
    },
    {
      "cell_type": "code",
      "metadata": {
        "colab": {
          "base_uri": "https://localhost:8080/"
        },
        "id": "0vROCsaCXZPp",
        "outputId": "bc8d6ee6-f927-4ed7-dd4b-16bb9ef780fa"
      },
      "source": [
        "# display region options and volume of tweets belonged to each region type\n",
        "df['region'].value_counts()"
      ],
      "execution_count": 15,
      "outputs": [
        {
          "output_type": "execute_result",
          "data": {
            "text/plain": [
              "United States     37034\n",
              "Unknown           10556\n",
              "United Kingdom      112\n",
              "Germany               2\n",
              "Name: region, dtype: int64"
            ]
          },
          "metadata": {
            "tags": []
          },
          "execution_count": 15
        }
      ]
    },
    {
      "cell_type": "markdown",
      "metadata": {
        "id": "dU7KY-yJuAUW"
      },
      "source": [
        "### a1. What subgroups can you identify based on the volume of tweets in each category and the number of unique accounts for each?"
      ]
    },
    {
      "cell_type": "code",
      "metadata": {
        "id": "WqhlnwMNXhLz"
      },
      "source": [
        "#Number of unique user by account_category\n",
        "df_grouped_by_category = df.groupby(['account_category']).agg({\n",
        "    \"author\":\"nunique\"}).reset_index()"
      ],
      "execution_count": 16,
      "outputs": []
    },
    {
      "cell_type": "code",
      "metadata": {
        "colab": {
          "base_uri": "https://localhost:8080/",
          "height": 227
        },
        "id": "nRK5bV9aZTVB",
        "outputId": "4bb3c927-d7c7-4539-a669-e4b02dbfc5d5"
      },
      "source": [
        "#display number of unique user in each category\n",
        "df_grouped_by_category"
      ],
      "execution_count": 17,
      "outputs": [
        {
          "output_type": "execute_result",
          "data": {
            "text/html": [
              "<div>\n",
              "<style scoped>\n",
              "    .dataframe tbody tr th:only-of-type {\n",
              "        vertical-align: middle;\n",
              "    }\n",
              "\n",
              "    .dataframe tbody tr th {\n",
              "        vertical-align: top;\n",
              "    }\n",
              "\n",
              "    .dataframe thead th {\n",
              "        text-align: right;\n",
              "    }\n",
              "</style>\n",
              "<table border=\"1\" class=\"dataframe\">\n",
              "  <thead>\n",
              "    <tr style=\"text-align: right;\">\n",
              "      <th></th>\n",
              "      <th>account_category</th>\n",
              "      <th>author</th>\n",
              "    </tr>\n",
              "  </thead>\n",
              "  <tbody>\n",
              "    <tr>\n",
              "      <th>0</th>\n",
              "      <td>Fearmonger</td>\n",
              "      <td>8</td>\n",
              "    </tr>\n",
              "    <tr>\n",
              "      <th>1</th>\n",
              "      <td>HashtagGamer</td>\n",
              "      <td>17</td>\n",
              "    </tr>\n",
              "    <tr>\n",
              "      <th>2</th>\n",
              "      <td>LeftTroll</td>\n",
              "      <td>19</td>\n",
              "    </tr>\n",
              "    <tr>\n",
              "      <th>3</th>\n",
              "      <td>NewsFeed</td>\n",
              "      <td>2</td>\n",
              "    </tr>\n",
              "    <tr>\n",
              "      <th>4</th>\n",
              "      <td>RightTroll</td>\n",
              "      <td>107</td>\n",
              "    </tr>\n",
              "    <tr>\n",
              "      <th>5</th>\n",
              "      <td>Unknown</td>\n",
              "      <td>15</td>\n",
              "    </tr>\n",
              "  </tbody>\n",
              "</table>\n",
              "</div>"
            ],
            "text/plain": [
              "  account_category  author\n",
              "0       Fearmonger       8\n",
              "1     HashtagGamer      17\n",
              "2        LeftTroll      19\n",
              "3         NewsFeed       2\n",
              "4       RightTroll     107\n",
              "5          Unknown      15"
            ]
          },
          "metadata": {
            "tags": []
          },
          "execution_count": 17
        }
      ]
    },
    {
      "cell_type": "markdown",
      "metadata": {
        "id": "fiw0BZaIuXz1"
      },
      "source": [
        "### b. Who is the most prominent author for each category type?"
      ]
    },
    {
      "cell_type": "code",
      "metadata": {
        "id": "1S-q54tNz3uR"
      },
      "source": [
        "#Most prominent user for each sub-groups in account category\n",
        "most_prominent_user = df.groupby(['account_category','author']).agg({'followers':'max'}).reset_index()"
      ],
      "execution_count": 18,
      "outputs": []
    },
    {
      "cell_type": "code",
      "metadata": {
        "colab": {
          "base_uri": "https://localhost:8080/",
          "height": 257
        },
        "id": "46JUx-JB8e6z",
        "outputId": "25290b59-8e42-4b27-bf94-8ad8aabd8403"
      },
      "source": [
        "# getting the indices of the original DF and returning most porminent user based on followers\n",
        "idx = most_prominent_user.groupby(['account_category'])['followers'].transform(max) == most_prominent_user['followers']\n",
        "most_prominent_user[idx]"
      ],
      "execution_count": 19,
      "outputs": [
        {
          "output_type": "execute_result",
          "data": {
            "text/html": [
              "<div>\n",
              "<style scoped>\n",
              "    .dataframe tbody tr th:only-of-type {\n",
              "        vertical-align: middle;\n",
              "    }\n",
              "\n",
              "    .dataframe tbody tr th {\n",
              "        vertical-align: top;\n",
              "    }\n",
              "\n",
              "    .dataframe thead th {\n",
              "        text-align: right;\n",
              "    }\n",
              "</style>\n",
              "<table border=\"1\" class=\"dataframe\">\n",
              "  <thead>\n",
              "    <tr style=\"text-align: right;\">\n",
              "      <th></th>\n",
              "      <th>account_category</th>\n",
              "      <th>author</th>\n",
              "      <th>followers</th>\n",
              "    </tr>\n",
              "  </thead>\n",
              "  <tbody>\n",
              "    <tr>\n",
              "      <th>2</th>\n",
              "      <td>Fearmonger</td>\n",
              "      <td>AARONALLENALL</td>\n",
              "      <td>55</td>\n",
              "    </tr>\n",
              "    <tr>\n",
              "      <th>6</th>\n",
              "      <td>Fearmonger</td>\n",
              "      <td>ARNOLDPARRK</td>\n",
              "      <td>55</td>\n",
              "    </tr>\n",
              "    <tr>\n",
              "      <th>18</th>\n",
              "      <td>HashtagGamer</td>\n",
              "      <td>ANDYHASHTAGGER</td>\n",
              "      <td>23890</td>\n",
              "    </tr>\n",
              "    <tr>\n",
              "      <th>25</th>\n",
              "      <td>LeftTroll</td>\n",
              "      <td>4MYSQUAD</td>\n",
              "      <td>4811</td>\n",
              "    </tr>\n",
              "    <tr>\n",
              "      <th>45</th>\n",
              "      <td>NewsFeed</td>\n",
              "      <td>ATLANTA_ONLINE</td>\n",
              "      <td>18927</td>\n",
              "    </tr>\n",
              "    <tr>\n",
              "      <th>46</th>\n",
              "      <td>RightTroll</td>\n",
              "      <td>10_GOP</td>\n",
              "      <td>10456</td>\n",
              "    </tr>\n",
              "    <tr>\n",
              "      <th>160</th>\n",
              "      <td>Unknown</td>\n",
              "      <td>ALVA_MC_GHEE</td>\n",
              "      <td>113</td>\n",
              "    </tr>\n",
              "  </tbody>\n",
              "</table>\n",
              "</div>"
            ],
            "text/plain": [
              "    account_category          author  followers\n",
              "2         Fearmonger   AARONALLENALL         55\n",
              "6         Fearmonger     ARNOLDPARRK         55\n",
              "18      HashtagGamer  ANDYHASHTAGGER      23890\n",
              "25         LeftTroll        4MYSQUAD       4811\n",
              "45          NewsFeed  ATLANTA_ONLINE      18927\n",
              "46        RightTroll          10_GOP      10456\n",
              "160          Unknown    ALVA_MC_GHEE        113"
            ]
          },
          "metadata": {
            "tags": []
          },
          "execution_count": 19
        }
      ]
    },
    {
      "cell_type": "markdown",
      "metadata": {
        "id": "s_f5CQqS8dVQ"
      },
      "source": [
        "### a1. What subgroups can you identify based on the volume of tweets in each category and the number of unique accounts for each?"
      ]
    },
    {
      "cell_type": "code",
      "metadata": {
        "id": "Mt1GicOUZYdH"
      },
      "source": [
        "#number of unique author per region\n",
        "df_grouped_by_region = df.groupby(['region']).agg({\"author\":\"nunique\"}).reset_index()"
      ],
      "execution_count": 20,
      "outputs": []
    },
    {
      "cell_type": "code",
      "metadata": {
        "colab": {
          "base_uri": "https://localhost:8080/",
          "height": 167
        },
        "id": "axGX2-JBdIDJ",
        "outputId": "605d309f-3d21-4636-d086-721e7f78983c"
      },
      "source": [
        "df_grouped_by_region"
      ],
      "execution_count": 21,
      "outputs": [
        {
          "output_type": "execute_result",
          "data": {
            "text/html": [
              "<div>\n",
              "<style scoped>\n",
              "    .dataframe tbody tr th:only-of-type {\n",
              "        vertical-align: middle;\n",
              "    }\n",
              "\n",
              "    .dataframe tbody tr th {\n",
              "        vertical-align: top;\n",
              "    }\n",
              "\n",
              "    .dataframe thead th {\n",
              "        text-align: right;\n",
              "    }\n",
              "</style>\n",
              "<table border=\"1\" class=\"dataframe\">\n",
              "  <thead>\n",
              "    <tr style=\"text-align: right;\">\n",
              "      <th></th>\n",
              "      <th>region</th>\n",
              "      <th>author</th>\n",
              "    </tr>\n",
              "  </thead>\n",
              "  <tbody>\n",
              "    <tr>\n",
              "      <th>0</th>\n",
              "      <td>Germany</td>\n",
              "      <td>1</td>\n",
              "    </tr>\n",
              "    <tr>\n",
              "      <th>1</th>\n",
              "      <td>United Kingdom</td>\n",
              "      <td>1</td>\n",
              "    </tr>\n",
              "    <tr>\n",
              "      <th>2</th>\n",
              "      <td>United States</td>\n",
              "      <td>114</td>\n",
              "    </tr>\n",
              "    <tr>\n",
              "      <th>3</th>\n",
              "      <td>Unknown</td>\n",
              "      <td>56</td>\n",
              "    </tr>\n",
              "  </tbody>\n",
              "</table>\n",
              "</div>"
            ],
            "text/plain": [
              "           region  author\n",
              "0         Germany       1\n",
              "1  United Kingdom       1\n",
              "2   United States     114\n",
              "3         Unknown      56"
            ]
          },
          "metadata": {
            "tags": []
          },
          "execution_count": 21
        }
      ]
    },
    {
      "cell_type": "markdown",
      "metadata": {
        "id": "Xi59wpw-ummc"
      },
      "source": [
        "### b. Who is the most prominent author for each category type?"
      ]
    },
    {
      "cell_type": "code",
      "metadata": {
        "id": "eExxRqUOdKJe"
      },
      "source": [
        "#Most prominent user for each sub-groups in region\n",
        "most_prominent_user = df.groupby(['region','author']).agg({'followers':'max'}).reset_index()"
      ],
      "execution_count": 22,
      "outputs": []
    },
    {
      "cell_type": "code",
      "metadata": {
        "colab": {
          "base_uri": "https://localhost:8080/",
          "height": 167
        },
        "id": "15OnRvkg_9eP",
        "outputId": "9f28cff4-f20f-4fb4-cb92-314a40132d1b"
      },
      "source": [
        "# getting the indices of the original DF and returning most porminent user based on followers\n",
        "idx = most_prominent_user.groupby(['region'])['followers'].transform(max) == most_prominent_user['followers']\n",
        "most_prominent_user[idx]"
      ],
      "execution_count": 23,
      "outputs": [
        {
          "output_type": "execute_result",
          "data": {
            "text/html": [
              "<div>\n",
              "<style scoped>\n",
              "    .dataframe tbody tr th:only-of-type {\n",
              "        vertical-align: middle;\n",
              "    }\n",
              "\n",
              "    .dataframe tbody tr th {\n",
              "        vertical-align: top;\n",
              "    }\n",
              "\n",
              "    .dataframe thead th {\n",
              "        text-align: right;\n",
              "    }\n",
              "</style>\n",
              "<table border=\"1\" class=\"dataframe\">\n",
              "  <thead>\n",
              "    <tr style=\"text-align: right;\">\n",
              "      <th></th>\n",
              "      <th>region</th>\n",
              "      <th>author</th>\n",
              "      <th>followers</th>\n",
              "    </tr>\n",
              "  </thead>\n",
              "  <tbody>\n",
              "    <tr>\n",
              "      <th>0</th>\n",
              "      <td>Germany</td>\n",
              "      <td>AMIRICANWILL</td>\n",
              "      <td>7</td>\n",
              "    </tr>\n",
              "    <tr>\n",
              "      <th>1</th>\n",
              "      <td>United Kingdom</td>\n",
              "      <td>ADRIENNE_GG</td>\n",
              "      <td>4529</td>\n",
              "    </tr>\n",
              "    <tr>\n",
              "      <th>76</th>\n",
              "      <td>United States</td>\n",
              "      <td>ANDYHASHTAGGER</td>\n",
              "      <td>23890</td>\n",
              "    </tr>\n",
              "    <tr>\n",
              "      <th>116</th>\n",
              "      <td>Unknown</td>\n",
              "      <td>10_GOP</td>\n",
              "      <td>10456</td>\n",
              "    </tr>\n",
              "  </tbody>\n",
              "</table>\n",
              "</div>"
            ],
            "text/plain": [
              "             region          author  followers\n",
              "0           Germany    AMIRICANWILL          7\n",
              "1    United Kingdom     ADRIENNE_GG       4529\n",
              "76    United States  ANDYHASHTAGGER      23890\n",
              "116         Unknown          10_GOP      10456"
            ]
          },
          "metadata": {
            "tags": []
          },
          "execution_count": 23
        }
      ]
    },
    {
      "cell_type": "markdown",
      "metadata": {
        "id": "cWGz8wLVASYJ"
      },
      "source": [
        "# Task 2"
      ]
    },
    {
      "cell_type": "markdown",
      "metadata": {
        "id": "f-JJpzeSAojK"
      },
      "source": [
        "Establishing who started the conversation on social media, the amplification point and how the conversation evolved over time is key in determining the key perpetrators spearheading a particular disinformation narrative.\n",
        "\n",
        "Using the data provided, Identify :\n",
        "\n",
        "a. The account name and account handle of the author who posted the first tweet.\n",
        "\n",
        "b. Identify the date that had the highest volume of tweets (amplification point)."
      ]
    },
    {
      "cell_type": "code",
      "metadata": {
        "colab": {
          "base_uri": "https://localhost:8080/",
          "height": 327
        },
        "id": "ANWkMkqQAIQQ",
        "outputId": "c07b489f-b90c-450d-de68-963e7aa3b4f2"
      },
      "source": [
        "df.head(2)\n",
        "\n"
      ],
      "execution_count": 24,
      "outputs": [
        {
          "output_type": "execute_result",
          "data": {
            "text/html": [
              "<div>\n",
              "<style scoped>\n",
              "    .dataframe tbody tr th:only-of-type {\n",
              "        vertical-align: middle;\n",
              "    }\n",
              "\n",
              "    .dataframe tbody tr th {\n",
              "        vertical-align: top;\n",
              "    }\n",
              "\n",
              "    .dataframe thead th {\n",
              "        text-align: right;\n",
              "    }\n",
              "</style>\n",
              "<table border=\"1\" class=\"dataframe\">\n",
              "  <thead>\n",
              "    <tr style=\"text-align: right;\">\n",
              "      <th></th>\n",
              "      <th>Unnamed: 0</th>\n",
              "      <th>author</th>\n",
              "      <th>content</th>\n",
              "      <th>region</th>\n",
              "      <th>language</th>\n",
              "      <th>publish_date</th>\n",
              "      <th>following</th>\n",
              "      <th>followers</th>\n",
              "      <th>post_type</th>\n",
              "      <th>account_type</th>\n",
              "      <th>retweet</th>\n",
              "      <th>account_category</th>\n",
              "      <th>tweet_id</th>\n",
              "      <th>article_url</th>\n",
              "      <th>tco1_step1</th>\n",
              "      <th>tco2_step1</th>\n",
              "      <th>tco3_step1</th>\n",
              "    </tr>\n",
              "  </thead>\n",
              "  <tbody>\n",
              "    <tr>\n",
              "      <th>0</th>\n",
              "      <td>0</td>\n",
              "      <td>ADNNELSTR</td>\n",
              "      <td>The empty podium says it all. The Marxists are...</td>\n",
              "      <td>Unknown</td>\n",
              "      <td>English</td>\n",
              "      <td>8/13/2017 21:00</td>\n",
              "      <td>946</td>\n",
              "      <td>83</td>\n",
              "      <td>NaN</td>\n",
              "      <td>Right</td>\n",
              "      <td>0</td>\n",
              "      <td>RightTroll</td>\n",
              "      <td>896838937028775937</td>\n",
              "      <td>http://twitter.com/893370639309996032/statuses...</td>\n",
              "      <td>https://twitter.com/i/web/status/8968383433838...</td>\n",
              "      <td>NaN</td>\n",
              "      <td>NaN</td>\n",
              "    </tr>\n",
              "    <tr>\n",
              "      <th>1</th>\n",
              "      <td>1</td>\n",
              "      <td>ATLANTA_ONLINE</td>\n",
              "      <td>Dust in your house may have toxic chemicals, s...</td>\n",
              "      <td>United States</td>\n",
              "      <td>English</td>\n",
              "      <td>9/15/2016 3:34</td>\n",
              "      <td>7825</td>\n",
              "      <td>17383</td>\n",
              "      <td>NaN</td>\n",
              "      <td>local</td>\n",
              "      <td>0</td>\n",
              "      <td>NewsFeed</td>\n",
              "      <td>776262908388839424</td>\n",
              "      <td>http://twitter.com/Atlanta_Online/statuses/776...</td>\n",
              "      <td>http://on-ajc.com/2coKeyO</td>\n",
              "      <td>NaN</td>\n",
              "      <td>NaN</td>\n",
              "    </tr>\n",
              "  </tbody>\n",
              "</table>\n",
              "</div>"
            ],
            "text/plain": [
              "   Unnamed: 0          author  ... tco2_step1 tco3_step1\n",
              "0           0       ADNNELSTR  ...        NaN        NaN\n",
              "1           1  ATLANTA_ONLINE  ...        NaN        NaN\n",
              "\n",
              "[2 rows x 17 columns]"
            ]
          },
          "metadata": {
            "tags": []
          },
          "execution_count": 24
        }
      ]
    },
    {
      "cell_type": "code",
      "metadata": {
        "id": "YGtwXEeUAk__"
      },
      "source": [
        "# change publish_date from object to pandas datetime\n",
        "df[\"publish_date\"] = pd.to_datetime(df[\"publish_date\"],format=\"%m/%d/%Y %H:%M\")"
      ],
      "execution_count": 25,
      "outputs": []
    },
    {
      "cell_type": "code",
      "metadata": {
        "id": "3v-yodC9B_OQ"
      },
      "source": [
        "# sort dataframe in publish_date\n",
        "df_sorted = df.sort_values(by=\"publish_date\")"
      ],
      "execution_count": 26,
      "outputs": []
    },
    {
      "cell_type": "markdown",
      "metadata": {
        "id": "9urJ1-A4u1ES"
      },
      "source": [
        "### a. The account name and account handle of the author who posted the first tweet."
      ]
    },
    {
      "cell_type": "code",
      "metadata": {
        "colab": {
          "base_uri": "https://localhost:8080/",
          "height": 35
        },
        "id": "71QNQdJACWOg",
        "outputId": "e9018927-3fcf-4e9f-c891-0e212edae6d4"
      },
      "source": [
        "# An account handle who posted the first tweet\n",
        "df_sorted['author'][0]"
      ],
      "execution_count": 27,
      "outputs": [
        {
          "output_type": "execute_result",
          "data": {
            "application/vnd.google.colaboratory.intrinsic+json": {
              "type": "string"
            },
            "text/plain": [
              "'ADNNELSTR'"
            ]
          },
          "metadata": {
            "tags": []
          },
          "execution_count": 27
        }
      ]
    },
    {
      "cell_type": "markdown",
      "metadata": {
        "id": "iaMOPUgZu-v-"
      },
      "source": [
        "### b. Identify the date that had the highest volume of tweets (amplification point)."
      ]
    },
    {
      "cell_type": "code",
      "metadata": {
        "id": "gK9mYzHrEwLZ"
      },
      "source": [
        "# Find the aplification point(date)\n",
        "# Extract date only from datetime by removing time and minute\n",
        "df_sorted['publish_date'] = pd.to_datetime(df_sorted['publish_date']).dt.date"
      ],
      "execution_count": 28,
      "outputs": []
    },
    {
      "cell_type": "code",
      "metadata": {
        "colab": {
          "base_uri": "https://localhost:8080/",
          "height": 77
        },
        "id": "CQmZKM8bCYiN",
        "outputId": "e5404d2c-c0c6-4503-a3ae-be56a687a5f1"
      },
      "source": [
        "#grouping by date and counting content and selecting a row with largest volume of tweet\n",
        "df_groupby_date_largest = df_sorted.groupby(['publish_date']).agg({'content':'count'}).content.nlargest(1).reset_index()\n",
        "df_groupby_date_largest"
      ],
      "execution_count": 29,
      "outputs": [
        {
          "output_type": "execute_result",
          "data": {
            "text/html": [
              "<div>\n",
              "<style scoped>\n",
              "    .dataframe tbody tr th:only-of-type {\n",
              "        vertical-align: middle;\n",
              "    }\n",
              "\n",
              "    .dataframe tbody tr th {\n",
              "        vertical-align: top;\n",
              "    }\n",
              "\n",
              "    .dataframe thead th {\n",
              "        text-align: right;\n",
              "    }\n",
              "</style>\n",
              "<table border=\"1\" class=\"dataframe\">\n",
              "  <thead>\n",
              "    <tr style=\"text-align: right;\">\n",
              "      <th></th>\n",
              "      <th>publish_date</th>\n",
              "      <th>content</th>\n",
              "    </tr>\n",
              "  </thead>\n",
              "  <tbody>\n",
              "    <tr>\n",
              "      <th>0</th>\n",
              "      <td>2017-08-12</td>\n",
              "      <td>1490</td>\n",
              "    </tr>\n",
              "  </tbody>\n",
              "</table>\n",
              "</div>"
            ],
            "text/plain": [
              "  publish_date  content\n",
              "0   2017-08-12     1490"
            ]
          },
          "metadata": {
            "tags": []
          },
          "execution_count": 29
        }
      ]
    },
    {
      "cell_type": "code",
      "metadata": {
        "id": "RsYI-ghBHPYT"
      },
      "source": [
        "# The date 2017-08-12 is our aplification point with content of 1490 tweets that day"
      ],
      "execution_count": 30,
      "outputs": []
    },
    {
      "cell_type": "markdown",
      "metadata": {
        "id": "6ywfMGwKI8SY"
      },
      "source": [
        "# Task 3"
      ]
    },
    {
      "cell_type": "markdown",
      "metadata": {
        "id": "nCj_9zx7JCjD"
      },
      "source": [
        "\"I am here for a purpose and that purpose is to grow into a mountain, not to shrink to a grain of sand. - Mandino #quote via @roxanamjones\"\n",
        "\n",
        "\n",
        "\n",
        "This is a tweet found within the dataset. For this exercise :\n",
        "\n",
        "a. Identify the author of the tweet;\n",
        "\n",
        "b. Create a subset with all tweets from the same author;"
      ]
    },
    {
      "cell_type": "code",
      "metadata": {
        "id": "UrW-litHJAHU"
      },
      "source": [
        "# first find the tweet from the dataset\n",
        "tweet = df[df['content'] == 'I am here for a purpose and that purpose is to grow into a mountain, not to shrink to a grain of sand. - Mandino #quote via @roxanamjones']"
      ],
      "execution_count": 31,
      "outputs": []
    },
    {
      "cell_type": "code",
      "metadata": {
        "colab": {
          "base_uri": "https://localhost:8080/",
          "height": 197
        },
        "id": "eQI91D4yI1o9",
        "outputId": "2f797264-3dd9-4e2d-f6eb-e60f4007e640"
      },
      "source": [
        "#the tweet found\n",
        "tweet"
      ],
      "execution_count": 32,
      "outputs": [
        {
          "output_type": "execute_result",
          "data": {
            "text/html": [
              "<div>\n",
              "<style scoped>\n",
              "    .dataframe tbody tr th:only-of-type {\n",
              "        vertical-align: middle;\n",
              "    }\n",
              "\n",
              "    .dataframe tbody tr th {\n",
              "        vertical-align: top;\n",
              "    }\n",
              "\n",
              "    .dataframe thead th {\n",
              "        text-align: right;\n",
              "    }\n",
              "</style>\n",
              "<table border=\"1\" class=\"dataframe\">\n",
              "  <thead>\n",
              "    <tr style=\"text-align: right;\">\n",
              "      <th></th>\n",
              "      <th>Unnamed: 0</th>\n",
              "      <th>author</th>\n",
              "      <th>content</th>\n",
              "      <th>region</th>\n",
              "      <th>language</th>\n",
              "      <th>publish_date</th>\n",
              "      <th>following</th>\n",
              "      <th>followers</th>\n",
              "      <th>post_type</th>\n",
              "      <th>account_type</th>\n",
              "      <th>retweet</th>\n",
              "      <th>account_category</th>\n",
              "      <th>tweet_id</th>\n",
              "      <th>article_url</th>\n",
              "      <th>tco1_step1</th>\n",
              "      <th>tco2_step1</th>\n",
              "      <th>tco3_step1</th>\n",
              "    </tr>\n",
              "  </thead>\n",
              "  <tbody>\n",
              "    <tr>\n",
              "      <th>31822</th>\n",
              "      <td>31874</td>\n",
              "      <td>AMELIEBALDWIN</td>\n",
              "      <td>I am here for a purpose and that purpose is to...</td>\n",
              "      <td>United States</td>\n",
              "      <td>English</td>\n",
              "      <td>2016-12-10 10:47:00</td>\n",
              "      <td>2362</td>\n",
              "      <td>2607</td>\n",
              "      <td>RETWEET</td>\n",
              "      <td>Right</td>\n",
              "      <td>1</td>\n",
              "      <td>RightTroll</td>\n",
              "      <td>807537138711588864</td>\n",
              "      <td>http://twitter.com/1679279490/statuses/8075371...</td>\n",
              "      <td>NaN</td>\n",
              "      <td>NaN</td>\n",
              "      <td>NaN</td>\n",
              "    </tr>\n",
              "  </tbody>\n",
              "</table>\n",
              "</div>"
            ],
            "text/plain": [
              "       Unnamed: 0         author  ... tco2_step1 tco3_step1\n",
              "31822       31874  AMELIEBALDWIN  ...        NaN        NaN\n",
              "\n",
              "[1 rows x 17 columns]"
            ]
          },
          "metadata": {
            "tags": []
          },
          "execution_count": 32
        }
      ]
    },
    {
      "cell_type": "markdown",
      "metadata": {
        "id": "aI2zpW2IvHRV"
      },
      "source": [
        "### a. Identify the author of the tweet;"
      ]
    },
    {
      "cell_type": "code",
      "metadata": {
        "colab": {
          "base_uri": "https://localhost:8080/",
          "height": 35
        },
        "id": "CJi1tlhdJoRk",
        "outputId": "a3893337-0829-4a0e-f754-47b08c32598b"
      },
      "source": [
        "#find the author\n",
        "author = tweet.iloc[0]['author']\n",
        "author"
      ],
      "execution_count": 33,
      "outputs": [
        {
          "output_type": "execute_result",
          "data": {
            "application/vnd.google.colaboratory.intrinsic+json": {
              "type": "string"
            },
            "text/plain": [
              "'AMELIEBALDWIN'"
            ]
          },
          "metadata": {
            "tags": []
          },
          "execution_count": 33
        }
      ]
    },
    {
      "cell_type": "markdown",
      "metadata": {
        "id": "dL8uDGvOvL3D"
      },
      "source": [
        "### b. Create a subset with all tweets from the same author;"
      ]
    },
    {
      "cell_type": "code",
      "metadata": {
        "colab": {
          "base_uri": "https://localhost:8080/"
        },
        "id": "_S9fSAAiKEF2",
        "outputId": "b498c835-416b-4836-dab0-748a25cdce29"
      },
      "source": [
        "# find all tweets tweeted by this user\n",
        "AMELIEBALDWIN_tweets = df[df['author'] == author]\n",
        "print(AMELIEBALDWIN_tweets.head())\n",
        "print(AMELIEBALDWIN_tweets.shape)"
      ],
      "execution_count": 34,
      "outputs": [
        {
          "output_type": "stream",
          "text": [
            "    Unnamed: 0         author  ...              tco2_step1 tco3_step1\n",
            "3            3  AMELIEBALDWIN  ...                     NaN        NaN\n",
            "4            4  AMELIEBALDWIN  ...  http://trib.al/adflVAC        NaN\n",
            "13          13  AMELIEBALDWIN  ...                     NaN        NaN\n",
            "16          16  AMELIEBALDWIN  ...                     NaN        NaN\n",
            "26          27  AMELIEBALDWIN  ...                     NaN        NaN\n",
            "\n",
            "[5 rows x 17 columns]\n",
            "(8673, 17)\n"
          ],
          "name": "stdout"
        }
      ]
    },
    {
      "cell_type": "markdown",
      "metadata": {
        "id": "0uypBzHyLEow"
      },
      "source": [
        "# Task 4"
      ]
    },
    {
      "cell_type": "markdown",
      "metadata": {
        "id": "ay049ULjLKZg"
      },
      "source": [
        "Using a plotting library / tool display the daily number of tweets from ;\n",
        "\n",
        "a. The top 2 categories within the datasets and rank them by volume of tweets. \n",
        "\n",
        "b. The 3rd and 4th categories and rank them by volume of tweets"
      ]
    },
    {
      "cell_type": "code",
      "metadata": {
        "colab": {
          "base_uri": "https://localhost:8080/"
        },
        "id": "3aWNnsZHKFRN",
        "outputId": "8dc8b4e7-103c-4dca-c3ae-493abc8d49d2"
      },
      "source": [
        "# show account category value count to rank them based tweet volume\n",
        "df['account_category'].value_counts()"
      ],
      "execution_count": 35,
      "outputs": [
        {
          "output_type": "execute_result",
          "data": {
            "text/plain": [
              "RightTroll      28789\n",
              "LeftTroll        9036\n",
              "HashtagGamer     6929\n",
              "NewsFeed         2711\n",
              "Unknown           148\n",
              "Fearmonger         95\n",
              "Name: account_category, dtype: int64"
            ]
          },
          "metadata": {
            "tags": []
          },
          "execution_count": 35
        }
      ]
    },
    {
      "cell_type": "markdown",
      "metadata": {
        "id": "_3bULFAkvTRQ"
      },
      "source": [
        "### a. The top 2 categories within the datasets and rank them by volume of tweets."
      ]
    },
    {
      "cell_type": "code",
      "metadata": {
        "id": "CLg_fqDENdQ7"
      },
      "source": [
        "#top two categories \n",
        "two_top_categories = df[np.logical_or(df['account_category']== 'RightTroll' ,df['account_category']== 'LeftTroll')]"
      ],
      "execution_count": 36,
      "outputs": []
    },
    {
      "cell_type": "code",
      "metadata": {
        "colab": {
          "base_uri": "https://localhost:8080/"
        },
        "id": "jdHuh-KUOIOX",
        "outputId": "e1eafcb5-b69f-4296-d304-9c72ce24136b"
      },
      "source": [
        "two_top_categories['account_category'].value_counts()"
      ],
      "execution_count": 37,
      "outputs": [
        {
          "output_type": "execute_result",
          "data": {
            "text/plain": [
              "RightTroll    28789\n",
              "LeftTroll      9036\n",
              "Name: account_category, dtype: int64"
            ]
          },
          "metadata": {
            "tags": []
          },
          "execution_count": 37
        }
      ]
    },
    {
      "cell_type": "code",
      "metadata": {
        "colab": {
          "base_uri": "https://localhost:8080/"
        },
        "id": "o0Pa305RO0jL",
        "outputId": "4b671564-204e-4d3d-8dc7-0bdc1a605102"
      },
      "source": [
        "# remove time and hour from datetime and using only date\n",
        "two_top_categories['publish_date'] = pd.to_datetime(two_top_categories['publish_date']).dt.date\n",
        "two_top_categories = two_top_categories.sort_values(by=\"publish_date\")"
      ],
      "execution_count": 38,
      "outputs": [
        {
          "output_type": "stream",
          "text": [
            "/usr/local/lib/python3.7/dist-packages/ipykernel_launcher.py:2: SettingWithCopyWarning: \n",
            "A value is trying to be set on a copy of a slice from a DataFrame.\n",
            "Try using .loc[row_indexer,col_indexer] = value instead\n",
            "\n",
            "See the caveats in the documentation: https://pandas.pydata.org/pandas-docs/stable/user_guide/indexing.html#returning-a-view-versus-a-copy\n",
            "  \n"
          ],
          "name": "stderr"
        }
      ]
    },
    {
      "cell_type": "code",
      "metadata": {
        "colab": {
          "base_uri": "https://localhost:8080/"
        },
        "id": "EjRF3vXgSW3V",
        "outputId": "12e443ee-200f-4382-e57b-3b37f097fd5b"
      },
      "source": [
        "two_top_categories['publish_date']"
      ],
      "execution_count": 39,
      "outputs": [
        {
          "output_type": "execute_result",
          "data": {
            "text/plain": [
              "16759    2015-01-06\n",
              "17920    2015-01-06\n",
              "26647    2015-01-06\n",
              "37432    2015-01-07\n",
              "33632    2015-01-07\n",
              "            ...    \n",
              "18434    2018-01-28\n",
              "16096    2018-01-30\n",
              "20243    2018-02-04\n",
              "42536    2018-02-10\n",
              "35689    2018-03-20\n",
              "Name: publish_date, Length: 37825, dtype: object"
            ]
          },
          "metadata": {
            "tags": []
          },
          "execution_count": 39
        }
      ]
    },
    {
      "cell_type": "code",
      "metadata": {
        "id": "2JBCk-7QYzKF"
      },
      "source": [
        "#groubby the tweets by publish date and account_category and counting volume of tweets\n",
        "two_top_categories_grouped = two_top_categories.groupby(['publish_date','account_category']).agg({'content':'count'}).reset_index()"
      ],
      "execution_count": 40,
      "outputs": []
    },
    {
      "cell_type": "code",
      "metadata": {
        "colab": {
          "base_uri": "https://localhost:8080/",
          "height": 533
        },
        "id": "XJBGqwutZsFl",
        "outputId": "f7f6cc33-91bf-4652-ab6f-816aef01a4b9"
      },
      "source": [
        "#plot daily number of tweets by LeftTroll and RightTroll\n",
        "plt.style.use('fivethirtyeight')\n",
        "plt.figure(figsize=(20,10))\n",
        "sns.lineplot(x = \"publish_date\", y = \"content\",hue='account_category', data = two_top_categories_grouped)\n",
        "plt.title(\"Daily number of tweets by LeftTroll and RightTroll\")\n",
        "plt.xlabel(\"Published Date\")\n",
        "plt.ylabel(\"Count\")\n",
        "plt.xticks(rotation = 25)\n",
        "plt.show()"
      ],
      "execution_count": 41,
      "outputs": [
        {
          "output_type": "display_data",
          "data": {
            "image/png": "[encoded data removed]",
            "text/plain": [
              "<Figure size 1440x720 with 1 Axes>"
            ]
          },
          "metadata": {
            "tags": []
          }
        }
      ]
    },
    {
      "cell_type": "markdown",
      "metadata": {
        "id": "T0jTkHlovZja"
      },
      "source": [
        "### b. The 3rd and 4th categories and rank them by volume of tweets"
      ]
    },
    {
      "cell_type": "code",
      "metadata": {
        "id": "ajb5P6FCQIZ_"
      },
      "source": [
        "#third and fourth categories \n",
        "third_and_fourth_categories = df[np.logical_or(df['account_category']== 'HashtagGamer' ,df['account_category']== 'NewsFeed')]"
      ],
      "execution_count": 42,
      "outputs": []
    },
    {
      "cell_type": "code",
      "metadata": {
        "colab": {
          "base_uri": "https://localhost:8080/"
        },
        "id": "3-djWtOjRoV9",
        "outputId": "fcb9cda5-6f46-4a5f-f5c3-19e75fbf22e1"
      },
      "source": [
        "third_and_fourth_categories['account_category'].value_counts()"
      ],
      "execution_count": 43,
      "outputs": [
        {
          "output_type": "execute_result",
          "data": {
            "text/plain": [
              "HashtagGamer    6929\n",
              "NewsFeed        2711\n",
              "Name: account_category, dtype: int64"
            ]
          },
          "metadata": {
            "tags": []
          },
          "execution_count": 43
        }
      ]
    },
    {
      "cell_type": "code",
      "metadata": {
        "colab": {
          "base_uri": "https://localhost:8080/"
        },
        "id": "GMxO_lUab9ru",
        "outputId": "08faa672-1591-4cea-dd5f-ce28ae82c9a7"
      },
      "source": [
        "# remove time and hour from datetime and using only date\n",
        "third_and_fourth_categories['publish_date'] = pd.to_datetime(third_and_fourth_categories['publish_date']).dt.date\n",
        "third_and_fourth_categories = third_and_fourth_categories.sort_values(by=\"publish_date\")"
      ],
      "execution_count": 44,
      "outputs": [
        {
          "output_type": "stream",
          "text": [
            "/usr/local/lib/python3.7/dist-packages/ipykernel_launcher.py:2: SettingWithCopyWarning: \n",
            "A value is trying to be set on a copy of a slice from a DataFrame.\n",
            "Try using .loc[row_indexer,col_indexer] = value instead\n",
            "\n",
            "See the caveats in the documentation: https://pandas.pydata.org/pandas-docs/stable/user_guide/indexing.html#returning-a-view-versus-a-copy\n",
            "  \n"
          ],
          "name": "stderr"
        }
      ]
    },
    {
      "cell_type": "code",
      "metadata": {
        "colab": {
          "base_uri": "https://localhost:8080/"
        },
        "id": "oOGz5PGUcfmc",
        "outputId": "6c5a86d3-39b4-42db-aee4-710a6ab541d9"
      },
      "source": [
        "third_and_fourth_categories['publish_date']"
      ],
      "execution_count": 45,
      "outputs": [
        {
          "output_type": "execute_result",
          "data": {
            "text/plain": [
              "42203    2014-11-27\n",
              "36956    2014-11-28\n",
              "24853    2014-11-28\n",
              "22424    2014-11-28\n",
              "26643    2014-11-28\n",
              "            ...    \n",
              "14863    2017-08-03\n",
              "29862    2017-08-04\n",
              "45757    2017-08-06\n",
              "21604    2017-08-07\n",
              "30551    2017-08-07\n",
              "Name: publish_date, Length: 9640, dtype: object"
            ]
          },
          "metadata": {
            "tags": []
          },
          "execution_count": 45
        }
      ]
    },
    {
      "cell_type": "code",
      "metadata": {
        "id": "MxOTv-s9dDwZ"
      },
      "source": [
        "#groubby the tweets by publish date and account_category and counting volume of tweets\n",
        "third_and_fourth_categories_grouped = third_and_fourth_categories.groupby(['publish_date','account_category']).agg({'content':'count'}).reset_index()"
      ],
      "execution_count": 46,
      "outputs": []
    },
    {
      "cell_type": "code",
      "metadata": {
        "colab": {
          "base_uri": "https://localhost:8080/",
          "height": 541
        },
        "id": "l3jVqEZEdcge",
        "outputId": "9e499c10-40c9-4234-ddff-68a8f66f57b8"
      },
      "source": [
        "#plot time series plot of number of tweets by HashtagGame and NewsFeed account category\n",
        "plt.style.use('fivethirtyeight')\n",
        "plt.figure(figsize=(20,10))\n",
        "sns.lineplot(x = \"publish_date\", y = \"content\",hue='account_category', data = third_and_fourth_categories_grouped)\n",
        "plt.title(\"Daily number of tweets by HashtagGamer and NewsFeed\")\n",
        "plt.xlabel(\"Published Date\")\n",
        "plt.ylabel(\"Count\")\n",
        "plt.xticks(rotation = 25)\n",
        "plt.show()"
      ],
      "execution_count": 47,
      "outputs": [
        {
          "output_type": "display_data",
          "data": {
            "image/png": "[encoded data removed]",
            "text/plain": [
              "<Figure size 1440x720 with 1 Axes>"
            ]
          },
          "metadata": {
            "tags": []
          }
        }
      ]
    },
    {
      "cell_type": "markdown",
      "metadata": {
        "id": "ycE4RaeMeJcR"
      },
      "source": [
        "# Task 5"
      ]
    },
    {
      "cell_type": "markdown",
      "metadata": {
        "id": "LoVmn_QCeYhC"
      },
      "source": [
        "## Account Profiling"
      ]
    },
    {
      "cell_type": "markdown",
      "metadata": {
        "id": "uJyPHWPyec0P"
      },
      "source": [
        "What are some of the characteristics you would consider when identifying fake or suspicious accounts on twitter?"
      ]
    },
    {
      "cell_type": "markdown",
      "metadata": {
        "id": "hicjTercerOY"
      },
      "source": [
        "Using the data provided, identify one account that you suspect might be automated and flag some of the bot-like traits you identified."
      ]
    },
    {
      "cell_type": "code",
      "metadata": {
        "id": "e3oNXnNjdvo_"
      },
      "source": [
        ""
      ],
      "execution_count": 47,
      "outputs": []
    },
    {
      "cell_type": "markdown",
      "metadata": {
        "id": "JRqrKPmMvgSP"
      },
      "source": [
        "### What are some of the characteristics you would consider when identifying fake or suspicious accounts on twitter"
      ]
    },
    {
      "cell_type": "markdown",
      "metadata": {
        "id": "sd9E5rfaIOk1"
      },
      "source": [
        "Some of the characteristics I consider as fake account on twitter is:-\n",
        "\n",
        "a. Users posting activity and timeline of the posting - these accounts most of the time use random post just related to some specific issues only and also if its snippet from other source that it may be copied from some other places\n",
        "\n",
        "b. Users screen handle and account name - Often these accounts use names and identities that not only look real but are designed to get closer access to specific people and their target audience\n",
        "\n",
        "c. Account creation date - It was created recently – in the recent dates and have many friends and followers\n",
        "\n",
        "d. Little or no contacts in common. When the profile has nothing in common with you such as friends or even a professional interest, and they are trying to add you, it’s likely for malicious reasons.\n",
        "\n",
        "e. Accounts with no personal information.\n"
      ]
    },
    {
      "cell_type": "markdown",
      "metadata": {
        "id": "E7Tp8zUBvyB7"
      },
      "source": [
        "### Using the data provided, identify one account that you suspect might be automated and flag some of the bot-like traits you identified."
      ]
    },
    {
      "cell_type": "code",
      "metadata": {
        "id": "o-HLDlmXeWkO"
      },
      "source": [
        "# remove time and hour from datetime and using only date\n",
        "df['publish_date'] = pd.to_datetime(df['publish_date']).dt.date\n",
        "df = df.sort_values(by=\"publish_date\")"
      ],
      "execution_count": 48,
      "outputs": []
    },
    {
      "cell_type": "code",
      "metadata": {
        "colab": {
          "base_uri": "https://localhost:8080/",
          "height": 197
        },
        "id": "eC8fg2ybwY27",
        "outputId": "92b03a95-5dad-4cf6-9cb5-1e9fb9378254"
      },
      "source": [
        "# groupby tweets by publish date and author and count number of tweets daily and flag more than 50 tweets per day as fake account\n",
        "df_groupby_date_author = df.groupby(['author','publish_date']).agg({\"content\":'count'}).reset_index()\n",
        "df_groupby_date_author.head()"
      ],
      "execution_count": 51,
      "outputs": [
        {
          "output_type": "execute_result",
          "data": {
            "text/html": [
              "<div>\n",
              "<style scoped>\n",
              "    .dataframe tbody tr th:only-of-type {\n",
              "        vertical-align: middle;\n",
              "    }\n",
              "\n",
              "    .dataframe tbody tr th {\n",
              "        vertical-align: top;\n",
              "    }\n",
              "\n",
              "    .dataframe thead th {\n",
              "        text-align: right;\n",
              "    }\n",
              "</style>\n",
              "<table border=\"1\" class=\"dataframe\">\n",
              "  <thead>\n",
              "    <tr style=\"text-align: right;\">\n",
              "      <th></th>\n",
              "      <th>author</th>\n",
              "      <th>publish_date</th>\n",
              "      <th>content</th>\n",
              "    </tr>\n",
              "  </thead>\n",
              "  <tbody>\n",
              "    <tr>\n",
              "      <th>0</th>\n",
              "      <td>10_GOP</td>\n",
              "      <td>2017-09-07</td>\n",
              "      <td>1</td>\n",
              "    </tr>\n",
              "    <tr>\n",
              "      <th>1</th>\n",
              "      <td>10_GOP</td>\n",
              "      <td>2017-09-08</td>\n",
              "      <td>3</td>\n",
              "    </tr>\n",
              "    <tr>\n",
              "      <th>2</th>\n",
              "      <td>10_GOP</td>\n",
              "      <td>2017-09-09</td>\n",
              "      <td>2</td>\n",
              "    </tr>\n",
              "    <tr>\n",
              "      <th>3</th>\n",
              "      <td>10_GOP</td>\n",
              "      <td>2017-09-10</td>\n",
              "      <td>3</td>\n",
              "    </tr>\n",
              "    <tr>\n",
              "      <th>4</th>\n",
              "      <td>10_GOP</td>\n",
              "      <td>2017-09-11</td>\n",
              "      <td>2</td>\n",
              "    </tr>\n",
              "  </tbody>\n",
              "</table>\n",
              "</div>"
            ],
            "text/plain": [
              "   author publish_date  content\n",
              "0  10_GOP   2017-09-07        1\n",
              "1  10_GOP   2017-09-08        3\n",
              "2  10_GOP   2017-09-09        2\n",
              "3  10_GOP   2017-09-10        3\n",
              "4  10_GOP   2017-09-11        2"
            ]
          },
          "metadata": {
            "tags": []
          },
          "execution_count": 51
        }
      ]
    },
    {
      "cell_type": "code",
      "metadata": {
        "colab": {
          "base_uri": "https://localhost:8080/",
          "height": 406
        },
        "id": "1M0yI-RywsmP",
        "outputId": "018f70bd-1de9-4f91-b97a-3fcd7fa48129"
      },
      "source": [
        "# label all accounts with more than 50 tweets per day as fake account\n",
        "fake_accounts = df_groupby_date_author[df_groupby_date_author['content'] > 50 ]\n",
        "fake_accounts"
      ],
      "execution_count": 52,
      "outputs": [
        {
          "output_type": "execute_result",
          "data": {
            "text/html": [
              "<div>\n",
              "<style scoped>\n",
              "    .dataframe tbody tr th:only-of-type {\n",
              "        vertical-align: middle;\n",
              "    }\n",
              "\n",
              "    .dataframe tbody tr th {\n",
              "        vertical-align: top;\n",
              "    }\n",
              "\n",
              "    .dataframe thead th {\n",
              "        text-align: right;\n",
              "    }\n",
              "</style>\n",
              "<table border=\"1\" class=\"dataframe\">\n",
              "  <thead>\n",
              "    <tr style=\"text-align: right;\">\n",
              "      <th></th>\n",
              "      <th>author</th>\n",
              "      <th>publish_date</th>\n",
              "      <th>content</th>\n",
              "    </tr>\n",
              "  </thead>\n",
              "  <tbody>\n",
              "    <tr>\n",
              "      <th>951</th>\n",
              "      <td>ADAMCHAPMANJR</td>\n",
              "      <td>2016-10-06</td>\n",
              "      <td>113</td>\n",
              "    </tr>\n",
              "    <tr>\n",
              "      <th>952</th>\n",
              "      <td>ADAMCHAPMANJR</td>\n",
              "      <td>2016-10-07</td>\n",
              "      <td>56</td>\n",
              "    </tr>\n",
              "    <tr>\n",
              "      <th>985</th>\n",
              "      <td>ADNNELSTR</td>\n",
              "      <td>2017-08-11</td>\n",
              "      <td>74</td>\n",
              "    </tr>\n",
              "    <tr>\n",
              "      <th>986</th>\n",
              "      <td>ADNNELSTR</td>\n",
              "      <td>2017-08-12</td>\n",
              "      <td>191</td>\n",
              "    </tr>\n",
              "    <tr>\n",
              "      <th>987</th>\n",
              "      <td>ADNNELSTR</td>\n",
              "      <td>2017-08-13</td>\n",
              "      <td>202</td>\n",
              "    </tr>\n",
              "    <tr>\n",
              "      <th>...</th>\n",
              "      <td>...</td>\n",
              "      <td>...</td>\n",
              "      <td>...</td>\n",
              "    </tr>\n",
              "    <tr>\n",
              "      <th>4537</th>\n",
              "      <td>ARM_2_ALAN</td>\n",
              "      <td>2015-07-23</td>\n",
              "      <td>195</td>\n",
              "    </tr>\n",
              "    <tr>\n",
              "      <th>4569</th>\n",
              "      <td>ARTEMSSFE</td>\n",
              "      <td>2017-08-13</td>\n",
              "      <td>52</td>\n",
              "    </tr>\n",
              "    <tr>\n",
              "      <th>4571</th>\n",
              "      <td>ARTEMSSFE</td>\n",
              "      <td>2017-08-15</td>\n",
              "      <td>64</td>\n",
              "    </tr>\n",
              "    <tr>\n",
              "      <th>4572</th>\n",
              "      <td>ARTEMSSFE</td>\n",
              "      <td>2017-08-16</td>\n",
              "      <td>58</td>\n",
              "    </tr>\n",
              "    <tr>\n",
              "      <th>5128</th>\n",
              "      <td>AURRLISTR</td>\n",
              "      <td>2017-08-17</td>\n",
              "      <td>53</td>\n",
              "    </tr>\n",
              "  </tbody>\n",
              "</table>\n",
              "<p>90 rows × 3 columns</p>\n",
              "</div>"
            ],
            "text/plain": [
              "             author publish_date  content\n",
              "951   ADAMCHAPMANJR   2016-10-06      113\n",
              "952   ADAMCHAPMANJR   2016-10-07       56\n",
              "985       ADNNELSTR   2017-08-11       74\n",
              "986       ADNNELSTR   2017-08-12      191\n",
              "987       ADNNELSTR   2017-08-13      202\n",
              "...             ...          ...      ...\n",
              "4537     ARM_2_ALAN   2015-07-23      195\n",
              "4569      ARTEMSSFE   2017-08-13       52\n",
              "4571      ARTEMSSFE   2017-08-15       64\n",
              "4572      ARTEMSSFE   2017-08-16       58\n",
              "5128      AURRLISTR   2017-08-17       53\n",
              "\n",
              "[90 rows x 3 columns]"
            ]
          },
          "metadata": {
            "tags": []
          },
          "execution_count": 52
        }
      ]
    },
    {
      "cell_type": "code",
      "metadata": {
        "colab": {
          "base_uri": "https://localhost:8080/"
        },
        "id": "TLpeNrhTxJ4-",
        "outputId": "30f94b4a-c970-46cb-abd3-833e02f77198"
      },
      "source": [
        "# display number of unique accounts in fake accounts dataframe\n",
        "fake_accounts.author.unique()"
      ],
      "execution_count": 53,
      "outputs": [
        {
          "output_type": "execute_result",
          "data": {
            "text/plain": [
              "array(['ADAMCHAPMANJR', 'ADNNELSTR', 'ADRIASNSS', 'AFEELIUTR',\n",
              "       'ALANISSTRS', 'ALECMOOOOODY', 'ALEXXDRTRR', 'AMBERLINETR',\n",
              "       'AMELIEBALDWIN', 'AMYYSLEGENTR', 'ANAAISLEC', 'ANAALESSIS',\n",
              "       'ANDIOSMARRTRUMP', 'ANDYHASHTAGGER', 'ANGISDOOYL', 'ANIIANTRS',\n",
              "       'ANNIEPOSHES', 'ANTONRUMSS', 'ARABMTR', 'ARM_2_ALAN', 'ARTEMSSFE',\n",
              "       'AURRLISTR'], dtype=object)"
            ]
          },
          "metadata": {
            "tags": []
          },
          "execution_count": 53
        }
      ]
    },
    {
      "cell_type": "markdown",
      "metadata": {
        "id": "WstO4C3SxmB3"
      },
      "source": [
        "### Analyza fake account from accounts followers, following and tweets\n"
      ]
    },
    {
      "cell_type": "code",
      "metadata": {
        "colab": {
          "base_uri": "https://localhost:8080/",
          "height": 1000
        },
        "id": "RePlRcylxXSC",
        "outputId": "e696b189-3c0e-4861-a862-aa76473ef522"
      },
      "source": [
        "## label all account with low followers and high retweet as fake accounts\n",
        "df_fake = df[np.logical_and(df['retweet']>df['followers'],df['following']<1)]\n",
        "df_fake"
      ],
      "execution_count": 56,
      "outputs": [
        {
          "output_type": "execute_result",
          "data": {
            "text/html": [
              "<div>\n",
              "<style scoped>\n",
              "    .dataframe tbody tr th:only-of-type {\n",
              "        vertical-align: middle;\n",
              "    }\n",
              "\n",
              "    .dataframe tbody tr th {\n",
              "        vertical-align: top;\n",
              "    }\n",
              "\n",
              "    .dataframe thead th {\n",
              "        text-align: right;\n",
              "    }\n",
              "</style>\n",
              "<table border=\"1\" class=\"dataframe\">\n",
              "  <thead>\n",
              "    <tr style=\"text-align: right;\">\n",
              "      <th></th>\n",
              "      <th>Unnamed: 0</th>\n",
              "      <th>author</th>\n",
              "      <th>content</th>\n",
              "      <th>region</th>\n",
              "      <th>language</th>\n",
              "      <th>publish_date</th>\n",
              "      <th>following</th>\n",
              "      <th>followers</th>\n",
              "      <th>post_type</th>\n",
              "      <th>account_type</th>\n",
              "      <th>retweet</th>\n",
              "      <th>account_category</th>\n",
              "      <th>tweet_id</th>\n",
              "      <th>article_url</th>\n",
              "      <th>tco1_step1</th>\n",
              "      <th>tco2_step1</th>\n",
              "      <th>tco3_step1</th>\n",
              "    </tr>\n",
              "  </thead>\n",
              "  <tbody>\n",
              "    <tr>\n",
              "      <th>37401</th>\n",
              "      <td>37458</td>\n",
              "      <td>ABOUTPOLIT</td>\n",
              "      <td>Take a look at the best photos from the week i...</td>\n",
              "      <td>United States</td>\n",
              "      <td>English</td>\n",
              "      <td>2016-07-11</td>\n",
              "      <td>0</td>\n",
              "      <td>0</td>\n",
              "      <td>RETWEET</td>\n",
              "      <td>Left</td>\n",
              "      <td>1</td>\n",
              "      <td>LeftTroll</td>\n",
              "      <td>752510042373365760</td>\n",
              "      <td>http://twitter.com/aboutpolit/statuses/7525100...</td>\n",
              "      <td>https://twitter.com/CNNPolitics/status/7522309...</td>\n",
              "      <td>http://cnn.it/29N4gkJ</td>\n",
              "      <td>NaN</td>\n",
              "    </tr>\n",
              "    <tr>\n",
              "      <th>10220</th>\n",
              "      <td>10238</td>\n",
              "      <td>ABOUTPOLIT</td>\n",
              "      <td>Goya’s visionary painting, “Brexit Devouring B...</td>\n",
              "      <td>United States</td>\n",
              "      <td>English</td>\n",
              "      <td>2016-07-11</td>\n",
              "      <td>0</td>\n",
              "      <td>0</td>\n",
              "      <td>RETWEET</td>\n",
              "      <td>Left</td>\n",
              "      <td>1</td>\n",
              "      <td>LeftTroll</td>\n",
              "      <td>752510259999027201</td>\n",
              "      <td>http://twitter.com/aboutpolit/statuses/7525102...</td>\n",
              "      <td>https://twitter.com/Robert___Harris/status/752...</td>\n",
              "      <td>NaN</td>\n",
              "      <td>NaN</td>\n",
              "    </tr>\n",
              "    <tr>\n",
              "      <th>7662</th>\n",
              "      <td>7676</td>\n",
              "      <td>AMBERLINETR</td>\n",
              "      <td>#ste REMINDER : Federal Prosecutor Investigati...</td>\n",
              "      <td>United States</td>\n",
              "      <td>English</td>\n",
              "      <td>2017-07-27</td>\n",
              "      <td>0</td>\n",
              "      <td>0</td>\n",
              "      <td>RETWEET</td>\n",
              "      <td>Right</td>\n",
              "      <td>1</td>\n",
              "      <td>RightTroll</td>\n",
              "      <td>890431681315749888</td>\n",
              "      <td>http://twitter.com/890429331373043712/statuses...</td>\n",
              "      <td>https://twitter.com/sterllarTR/status/89038211...</td>\n",
              "      <td>http://ift.tt/2u0iNOO</td>\n",
              "      <td>NaN</td>\n",
              "    </tr>\n",
              "    <tr>\n",
              "      <th>44996</th>\n",
              "      <td>45068</td>\n",
              "      <td>AMBERLINETR</td>\n",
              "      <td>#ste Kim Kardashian’s Angry Response to Transg...</td>\n",
              "      <td>United States</td>\n",
              "      <td>English</td>\n",
              "      <td>2017-07-27</td>\n",
              "      <td>0</td>\n",
              "      <td>0</td>\n",
              "      <td>RETWEET</td>\n",
              "      <td>Right</td>\n",
              "      <td>1</td>\n",
              "      <td>RightTroll</td>\n",
              "      <td>890431669710209024</td>\n",
              "      <td>http://twitter.com/890429331373043712/statuses...</td>\n",
              "      <td>https://twitter.com/sterllarTR/status/89038209...</td>\n",
              "      <td>http://ift.tt/2tLqahW</td>\n",
              "      <td>NaN</td>\n",
              "    </tr>\n",
              "    <tr>\n",
              "      <th>9719</th>\n",
              "      <td>9737</td>\n",
              "      <td>AMBERLINETR</td>\n",
              "      <td>#ste VIDEO : Sarah Huckabee Puts Pathetic Libe...</td>\n",
              "      <td>United States</td>\n",
              "      <td>English</td>\n",
              "      <td>2017-07-27</td>\n",
              "      <td>0</td>\n",
              "      <td>0</td>\n",
              "      <td>RETWEET</td>\n",
              "      <td>Right</td>\n",
              "      <td>1</td>\n",
              "      <td>RightTroll</td>\n",
              "      <td>890431644020035585</td>\n",
              "      <td>http://twitter.com/890429331373043712/statuses...</td>\n",
              "      <td>https://twitter.com/sterllarTR/status/89038054...</td>\n",
              "      <td>http://ift.tt/2u0tgtx</td>\n",
              "      <td>NaN</td>\n",
              "    </tr>\n",
              "    <tr>\n",
              "      <th>226</th>\n",
              "      <td>227</td>\n",
              "      <td>AFEELIUTR</td>\n",
              "      <td>#ste LOL VIDEO : “The View” Tries to do a Trum...</td>\n",
              "      <td>United States</td>\n",
              "      <td>English</td>\n",
              "      <td>2017-07-29</td>\n",
              "      <td>0</td>\n",
              "      <td>0</td>\n",
              "      <td>RETWEET</td>\n",
              "      <td>Right</td>\n",
              "      <td>1</td>\n",
              "      <td>RightTroll</td>\n",
              "      <td>891185073839644672</td>\n",
              "      <td>http://twitter.com/891183122305486848/statuses...</td>\n",
              "      <td>https://twitter.com/sterllarTR/status/89111994...</td>\n",
              "      <td>http://ift.tt/2uL9i86</td>\n",
              "      <td>NaN</td>\n",
              "    </tr>\n",
              "    <tr>\n",
              "      <th>20252</th>\n",
              "      <td>20284</td>\n",
              "      <td>ARABMTR</td>\n",
              "      <td>#ste “Gender Reassignment Surgery” Has Just Re...</td>\n",
              "      <td>Unknown</td>\n",
              "      <td>English</td>\n",
              "      <td>2017-07-29</td>\n",
              "      <td>0</td>\n",
              "      <td>0</td>\n",
              "      <td>RETWEET</td>\n",
              "      <td>Right</td>\n",
              "      <td>1</td>\n",
              "      <td>RightTroll</td>\n",
              "      <td>891232581936709633</td>\n",
              "      <td>http://twitter.com/891230914629521408/statuses...</td>\n",
              "      <td>https://twitter.com/sterllarTR/status/89111699...</td>\n",
              "      <td>http://ift.tt/2tLFhnk</td>\n",
              "      <td>NaN</td>\n",
              "    </tr>\n",
              "    <tr>\n",
              "      <th>3891</th>\n",
              "      <td>3899</td>\n",
              "      <td>ALIISTRR</td>\n",
              "      <td>#ste Turns Out Obama’s Unmasking Scheme is Wor...</td>\n",
              "      <td>United States</td>\n",
              "      <td>English</td>\n",
              "      <td>2017-07-29</td>\n",
              "      <td>0</td>\n",
              "      <td>0</td>\n",
              "      <td>RETWEET</td>\n",
              "      <td>Right</td>\n",
              "      <td>1</td>\n",
              "      <td>RightTroll</td>\n",
              "      <td>891204184418250752</td>\n",
              "      <td>http://twitter.com/891202510660259840/statuses...</td>\n",
              "      <td>https://twitter.com/sterllarTR/status/89109330...</td>\n",
              "      <td>http://ift.tt/2eUXdJJ</td>\n",
              "      <td>NaN</td>\n",
              "    </tr>\n",
              "    <tr>\n",
              "      <th>34526</th>\n",
              "      <td>34580</td>\n",
              "      <td>ARABMTR</td>\n",
              "      <td>#ste WOW!! Look What Scaramucci Decided for on...</td>\n",
              "      <td>Unknown</td>\n",
              "      <td>English</td>\n",
              "      <td>2017-07-29</td>\n",
              "      <td>0</td>\n",
              "      <td>0</td>\n",
              "      <td>RETWEET</td>\n",
              "      <td>Right</td>\n",
              "      <td>1</td>\n",
              "      <td>RightTroll</td>\n",
              "      <td>891232613561761793</td>\n",
              "      <td>http://twitter.com/891230914629521408/statuses...</td>\n",
              "      <td>https://twitter.com/sterllarTR/status/89111995...</td>\n",
              "      <td>http://ift.tt/2v5rPhS</td>\n",
              "      <td>NaN</td>\n",
              "    </tr>\n",
              "    <tr>\n",
              "      <th>37350</th>\n",
              "      <td>37407</td>\n",
              "      <td>ARABMTR</td>\n",
              "      <td>#ste LOL VIDEO : “The View” Tries to do a Trum...</td>\n",
              "      <td>Unknown</td>\n",
              "      <td>English</td>\n",
              "      <td>2017-07-29</td>\n",
              "      <td>0</td>\n",
              "      <td>0</td>\n",
              "      <td>RETWEET</td>\n",
              "      <td>Right</td>\n",
              "      <td>1</td>\n",
              "      <td>RightTroll</td>\n",
              "      <td>891232604179111936</td>\n",
              "      <td>http://twitter.com/891230914629521408/statuses...</td>\n",
              "      <td>https://twitter.com/sterllarTR/status/89111994...</td>\n",
              "      <td>http://ift.tt/2uL9i86</td>\n",
              "      <td>NaN</td>\n",
              "    </tr>\n",
              "    <tr>\n",
              "      <th>47230</th>\n",
              "      <td>47307</td>\n",
              "      <td>ARABMTR</td>\n",
              "      <td>#ste Turns Out Obama’s Unmasking Scheme is Wor...</td>\n",
              "      <td>Unknown</td>\n",
              "      <td>English</td>\n",
              "      <td>2017-07-29</td>\n",
              "      <td>0</td>\n",
              "      <td>0</td>\n",
              "      <td>RETWEET</td>\n",
              "      <td>Right</td>\n",
              "      <td>1</td>\n",
              "      <td>RightTroll</td>\n",
              "      <td>891232536160063488</td>\n",
              "      <td>http://twitter.com/891230914629521408/statuses...</td>\n",
              "      <td>https://twitter.com/sterllarTR/status/89109330...</td>\n",
              "      <td>http://ift.tt/2eUXdJJ</td>\n",
              "      <td>NaN</td>\n",
              "    </tr>\n",
              "    <tr>\n",
              "      <th>5575</th>\n",
              "      <td>5585</td>\n",
              "      <td>AFEELIUTR</td>\n",
              "      <td>#ste LOL! LOOK How Team Trump Left Reince STRA...</td>\n",
              "      <td>United States</td>\n",
              "      <td>English</td>\n",
              "      <td>2017-07-29</td>\n",
              "      <td>0</td>\n",
              "      <td>0</td>\n",
              "      <td>RETWEET</td>\n",
              "      <td>Right</td>\n",
              "      <td>1</td>\n",
              "      <td>RightTroll</td>\n",
              "      <td>891185024778866689</td>\n",
              "      <td>http://twitter.com/891183122305486848/statuses...</td>\n",
              "      <td>https://twitter.com/sterllarTR/status/89109331...</td>\n",
              "      <td>http://ift.tt/2haLmaS</td>\n",
              "      <td>NaN</td>\n",
              "    </tr>\n",
              "    <tr>\n",
              "      <th>1884</th>\n",
              "      <td>1886</td>\n",
              "      <td>ARAGARTRR</td>\n",
              "      <td>#ste BREAKING : At Least One Killed in Terrori...</td>\n",
              "      <td>United States</td>\n",
              "      <td>English</td>\n",
              "      <td>2017-07-29</td>\n",
              "      <td>0</td>\n",
              "      <td>0</td>\n",
              "      <td>RETWEET</td>\n",
              "      <td>Right</td>\n",
              "      <td>1</td>\n",
              "      <td>RightTroll</td>\n",
              "      <td>891226514636906497</td>\n",
              "      <td>http://twitter.com/891225084635090945/statuses...</td>\n",
              "      <td>https://twitter.com/sterllarTR/status/89111996...</td>\n",
              "      <td>http://ift.tt/2uKDRLb</td>\n",
              "      <td>NaN</td>\n",
              "    </tr>\n",
              "    <tr>\n",
              "      <th>7289</th>\n",
              "      <td>7301</td>\n",
              "      <td>AFEELIUTR</td>\n",
              "      <td>#ste Turns Out Obama’s Unmasking Scheme is Wor...</td>\n",
              "      <td>United States</td>\n",
              "      <td>English</td>\n",
              "      <td>2017-07-29</td>\n",
              "      <td>0</td>\n",
              "      <td>0</td>\n",
              "      <td>RETWEET</td>\n",
              "      <td>Right</td>\n",
              "      <td>1</td>\n",
              "      <td>RightTroll</td>\n",
              "      <td>891185009188626432</td>\n",
              "      <td>http://twitter.com/891183122305486848/statuses...</td>\n",
              "      <td>https://twitter.com/sterllarTR/status/89109330...</td>\n",
              "      <td>http://ift.tt/2eUXdJJ</td>\n",
              "      <td>NaN</td>\n",
              "    </tr>\n",
              "    <tr>\n",
              "      <th>40196</th>\n",
              "      <td>40260</td>\n",
              "      <td>ARABMTR</td>\n",
              "      <td>#ste LOL : What Trump Just Said to Cops Has Li...</td>\n",
              "      <td>Unknown</td>\n",
              "      <td>English</td>\n",
              "      <td>2017-07-29</td>\n",
              "      <td>0</td>\n",
              "      <td>0</td>\n",
              "      <td>RETWEET</td>\n",
              "      <td>Right</td>\n",
              "      <td>1</td>\n",
              "      <td>RightTroll</td>\n",
              "      <td>891232592435060736</td>\n",
              "      <td>http://twitter.com/891230914629521408/statuses...</td>\n",
              "      <td>https://twitter.com/sterllarTR/status/89111994...</td>\n",
              "      <td>http://ift.tt/2v5f1rL</td>\n",
              "      <td>NaN</td>\n",
              "    </tr>\n",
              "    <tr>\n",
              "      <th>46808</th>\n",
              "      <td>46883</td>\n",
              "      <td>ALIISTRR</td>\n",
              "      <td>#ste LOL! LOOK How Team Trump Left Reince STRA...</td>\n",
              "      <td>United States</td>\n",
              "      <td>English</td>\n",
              "      <td>2017-07-29</td>\n",
              "      <td>0</td>\n",
              "      <td>0</td>\n",
              "      <td>RETWEET</td>\n",
              "      <td>Right</td>\n",
              "      <td>1</td>\n",
              "      <td>RightTroll</td>\n",
              "      <td>891204194081886210</td>\n",
              "      <td>http://twitter.com/891202510660259840/statuses...</td>\n",
              "      <td>https://twitter.com/sterllarTR/status/89109331...</td>\n",
              "      <td>http://ift.tt/2haLmaS</td>\n",
              "      <td>NaN</td>\n",
              "    </tr>\n",
              "    <tr>\n",
              "      <th>14529</th>\n",
              "      <td>14553</td>\n",
              "      <td>ALIISTRR</td>\n",
              "      <td>#ste JK Rowling Just Made Up a HUGE LIE About ...</td>\n",
              "      <td>United States</td>\n",
              "      <td>English</td>\n",
              "      <td>2017-07-29</td>\n",
              "      <td>0</td>\n",
              "      <td>0</td>\n",
              "      <td>RETWEET</td>\n",
              "      <td>Right</td>\n",
              "      <td>1</td>\n",
              "      <td>RightTroll</td>\n",
              "      <td>891204174519599104</td>\n",
              "      <td>http://twitter.com/891202510660259840/statuses...</td>\n",
              "      <td>https://twitter.com/sterllarTR/status/89109226...</td>\n",
              "      <td>http://ift.tt/2tKW8GP</td>\n",
              "      <td>NaN</td>\n",
              "    </tr>\n",
              "    <tr>\n",
              "      <th>34302</th>\n",
              "      <td>34356</td>\n",
              "      <td>ARAGARTRR</td>\n",
              "      <td>#ste LOL! LOOK How Team Trump Left Reince STRA...</td>\n",
              "      <td>United States</td>\n",
              "      <td>English</td>\n",
              "      <td>2017-07-29</td>\n",
              "      <td>0</td>\n",
              "      <td>0</td>\n",
              "      <td>RETWEET</td>\n",
              "      <td>Right</td>\n",
              "      <td>1</td>\n",
              "      <td>RightTroll</td>\n",
              "      <td>891226450996727808</td>\n",
              "      <td>http://twitter.com/891225084635090945/statuses...</td>\n",
              "      <td>https://twitter.com/sterllarTR/status/89109331...</td>\n",
              "      <td>http://ift.tt/2haLmaS</td>\n",
              "      <td>NaN</td>\n",
              "    </tr>\n",
              "    <tr>\n",
              "      <th>26642</th>\n",
              "      <td>26687</td>\n",
              "      <td>ADRIASNSS</td>\n",
              "      <td>#ste You Won’t Believe What Comey Did to Obstr...</td>\n",
              "      <td>United States</td>\n",
              "      <td>English</td>\n",
              "      <td>2017-08-04</td>\n",
              "      <td>0</td>\n",
              "      <td>0</td>\n",
              "      <td>RETWEET</td>\n",
              "      <td>Right</td>\n",
              "      <td>1</td>\n",
              "      <td>RightTroll</td>\n",
              "      <td>893364579987845125</td>\n",
              "      <td>http://twitter.com/893362647147700224/statuses...</td>\n",
              "      <td>https://twitter.com/sterllarTR/status/89330806...</td>\n",
              "      <td>http://ift.tt/2v2e8Qd</td>\n",
              "      <td>NaN</td>\n",
              "    </tr>\n",
              "    <tr>\n",
              "      <th>12290</th>\n",
              "      <td>12311</td>\n",
              "      <td>ADNNELSTR</td>\n",
              "      <td>#ste Watch Judge Napolitano Explain How Sessio...</td>\n",
              "      <td>Unknown</td>\n",
              "      <td>English</td>\n",
              "      <td>2017-08-04</td>\n",
              "      <td>0</td>\n",
              "      <td>0</td>\n",
              "      <td>RETWEET</td>\n",
              "      <td>Right</td>\n",
              "      <td>1</td>\n",
              "      <td>RightTroll</td>\n",
              "      <td>893371675068313600</td>\n",
              "      <td>http://twitter.com/893370639309996032/statuses...</td>\n",
              "      <td>https://twitter.com/sterllarTR/status/89331181...</td>\n",
              "      <td>http://ift.tt/2vvc2IY</td>\n",
              "      <td>NaN</td>\n",
              "    </tr>\n",
              "    <tr>\n",
              "      <th>10750</th>\n",
              "      <td>10769</td>\n",
              "      <td>ADRIASNSS</td>\n",
              "      <td>#ste Watch Trump Give the ULTIMATE Smackdown t...</td>\n",
              "      <td>United States</td>\n",
              "      <td>English</td>\n",
              "      <td>2017-08-04</td>\n",
              "      <td>0</td>\n",
              "      <td>0</td>\n",
              "      <td>RETWEET</td>\n",
              "      <td>Right</td>\n",
              "      <td>1</td>\n",
              "      <td>RightTroll</td>\n",
              "      <td>893364603668791297</td>\n",
              "      <td>http://twitter.com/893362647147700224/statuses...</td>\n",
              "      <td>https://twitter.com/sterllarTR/status/89330807...</td>\n",
              "      <td>http://ift.tt/2v1RI1b</td>\n",
              "      <td>NaN</td>\n",
              "    </tr>\n",
              "    <tr>\n",
              "      <th>44966</th>\n",
              "      <td>45038</td>\n",
              "      <td>ADRIASNSS</td>\n",
              "      <td>#ste Breaking! Senate Blocks President Trump!!...</td>\n",
              "      <td>United States</td>\n",
              "      <td>English</td>\n",
              "      <td>2017-08-04</td>\n",
              "      <td>0</td>\n",
              "      <td>0</td>\n",
              "      <td>RETWEET</td>\n",
              "      <td>Right</td>\n",
              "      <td>1</td>\n",
              "      <td>RightTroll</td>\n",
              "      <td>893364658626801665</td>\n",
              "      <td>http://twitter.com/893362647147700224/statuses...</td>\n",
              "      <td>https://twitter.com/sterllarTR/status/89331562...</td>\n",
              "      <td>http://ift.tt/2fdqtve</td>\n",
              "      <td>NaN</td>\n",
              "    </tr>\n",
              "    <tr>\n",
              "      <th>30658</th>\n",
              "      <td>30708</td>\n",
              "      <td>AMBERRPAR</td>\n",
              "      <td>#ste Massive Obama Era Food Stamp Fraud EXPOSE...</td>\n",
              "      <td>Unknown</td>\n",
              "      <td>English</td>\n",
              "      <td>2017-08-08</td>\n",
              "      <td>0</td>\n",
              "      <td>0</td>\n",
              "      <td>RETWEET</td>\n",
              "      <td>Right</td>\n",
              "      <td>1</td>\n",
              "      <td>RightTroll</td>\n",
              "      <td>894788961121443840</td>\n",
              "      <td>http://twitter.com/894787222964101120/statuses...</td>\n",
              "      <td>https://twitter.com/sterllarTR/status/89474459...</td>\n",
              "      <td>http://ift.tt/2hFinwu</td>\n",
              "      <td>NaN</td>\n",
              "    </tr>\n",
              "    <tr>\n",
              "      <th>30298</th>\n",
              "      <td>30348</td>\n",
              "      <td>ANAAISLEC</td>\n",
              "      <td>#ste Trump Cracks Down on Food Stamp Fraud and...</td>\n",
              "      <td>Unknown</td>\n",
              "      <td>English</td>\n",
              "      <td>2017-08-08</td>\n",
              "      <td>0</td>\n",
              "      <td>0</td>\n",
              "      <td>RETWEET</td>\n",
              "      <td>Right</td>\n",
              "      <td>1</td>\n",
              "      <td>RightTroll</td>\n",
              "      <td>894802537039245312</td>\n",
              "      <td>http://twitter.com/894801330912546817/statuses...</td>\n",
              "      <td>https://twitter.com/sterllarTR/status/89474078...</td>\n",
              "      <td>http://ift.tt/2wCtdWp</td>\n",
              "      <td>NaN</td>\n",
              "    </tr>\n",
              "    <tr>\n",
              "      <th>27470</th>\n",
              "      <td>27516</td>\n",
              "      <td>AMBERRPAR</td>\n",
              "      <td>#ste Gov. Abbott Just IGNORED the BAD Advice o...</td>\n",
              "      <td>Unknown</td>\n",
              "      <td>English</td>\n",
              "      <td>2017-08-08</td>\n",
              "      <td>0</td>\n",
              "      <td>0</td>\n",
              "      <td>RETWEET</td>\n",
              "      <td>Right</td>\n",
              "      <td>1</td>\n",
              "      <td>RightTroll</td>\n",
              "      <td>894788884919341056</td>\n",
              "      <td>http://twitter.com/894787222964101120/statuses...</td>\n",
              "      <td>https://twitter.com/sterllarTR/status/89474328...</td>\n",
              "      <td>http://ift.tt/2foGLlb</td>\n",
              "      <td>NaN</td>\n",
              "    </tr>\n",
              "    <tr>\n",
              "      <th>14039</th>\n",
              "      <td>14062</td>\n",
              "      <td>ANAAISLEC</td>\n",
              "      <td>#ste SICK! ANTIFA attacked Trump Supporters du...</td>\n",
              "      <td>Unknown</td>\n",
              "      <td>English</td>\n",
              "      <td>2017-08-08</td>\n",
              "      <td>0</td>\n",
              "      <td>0</td>\n",
              "      <td>RETWEET</td>\n",
              "      <td>Right</td>\n",
              "      <td>1</td>\n",
              "      <td>RightTroll</td>\n",
              "      <td>894802687719612416</td>\n",
              "      <td>http://twitter.com/894801330912546817/statuses...</td>\n",
              "      <td>https://twitter.com/sterllarTR/status/89474458...</td>\n",
              "      <td>http://ift.tt/2hEEqDq</td>\n",
              "      <td>NaN</td>\n",
              "    </tr>\n",
              "    <tr>\n",
              "      <th>16251</th>\n",
              "      <td>16278</td>\n",
              "      <td>ANAAISLEC</td>\n",
              "      <td>#ste Traitor Jeff Flake is Now Defending Obama...</td>\n",
              "      <td>Unknown</td>\n",
              "      <td>English</td>\n",
              "      <td>2017-08-08</td>\n",
              "      <td>0</td>\n",
              "      <td>0</td>\n",
              "      <td>RETWEET</td>\n",
              "      <td>Right</td>\n",
              "      <td>1</td>\n",
              "      <td>RightTroll</td>\n",
              "      <td>894802571705151488</td>\n",
              "      <td>http://twitter.com/894801330912546817/statuses...</td>\n",
              "      <td>https://twitter.com/sterllarTR/status/89474205...</td>\n",
              "      <td>http://ift.tt/2ujneoF</td>\n",
              "      <td>NaN</td>\n",
              "    </tr>\n",
              "    <tr>\n",
              "      <th>41638</th>\n",
              "      <td>41705</td>\n",
              "      <td>ANAAISLEC</td>\n",
              "      <td>#ste BREAKING : U.S. Spy Satellites CATCH Nort...</td>\n",
              "      <td>Unknown</td>\n",
              "      <td>English</td>\n",
              "      <td>2017-08-08</td>\n",
              "      <td>0</td>\n",
              "      <td>0</td>\n",
              "      <td>RETWEET</td>\n",
              "      <td>Right</td>\n",
              "      <td>1</td>\n",
              "      <td>RightTroll</td>\n",
              "      <td>894802651304652800</td>\n",
              "      <td>http://twitter.com/894801330912546817/statuses...</td>\n",
              "      <td>https://twitter.com/sterllarTR/status/89474329...</td>\n",
              "      <td>http://ift.tt/2foNBaq</td>\n",
              "      <td>NaN</td>\n",
              "    </tr>\n",
              "    <tr>\n",
              "      <th>8895</th>\n",
              "      <td>8909</td>\n",
              "      <td>ANAAISLEC</td>\n",
              "      <td>#ste BOMBSHELL! Comey’s FBI Helped Set Up Clin...</td>\n",
              "      <td>Unknown</td>\n",
              "      <td>English</td>\n",
              "      <td>2017-08-08</td>\n",
              "      <td>0</td>\n",
              "      <td>0</td>\n",
              "      <td>RETWEET</td>\n",
              "      <td>Right</td>\n",
              "      <td>1</td>\n",
              "      <td>RightTroll</td>\n",
              "      <td>894802637748666368</td>\n",
              "      <td>http://twitter.com/894801330912546817/statuses...</td>\n",
              "      <td>https://twitter.com/sterllarTR/status/89474328...</td>\n",
              "      <td>http://ift.tt/2hEN0lo</td>\n",
              "      <td>NaN</td>\n",
              "    </tr>\n",
              "    <tr>\n",
              "      <th>19182</th>\n",
              "      <td>19214</td>\n",
              "      <td>ANAAISLEC</td>\n",
              "      <td>#ste Eric Bolling Just Responded to His Fox Ne...</td>\n",
              "      <td>Unknown</td>\n",
              "      <td>English</td>\n",
              "      <td>2017-08-08</td>\n",
              "      <td>0</td>\n",
              "      <td>0</td>\n",
              "      <td>RETWEET</td>\n",
              "      <td>Right</td>\n",
              "      <td>1</td>\n",
              "      <td>RightTroll</td>\n",
              "      <td>894802502104879105</td>\n",
              "      <td>http://twitter.com/894801330912546817/statuses...</td>\n",
              "      <td>https://twitter.com/sterllarTR/status/89473959...</td>\n",
              "      <td>http://ift.tt/2vJgAMW</td>\n",
              "      <td>NaN</td>\n",
              "    </tr>\n",
              "    <tr>\n",
              "      <th>6534</th>\n",
              "      <td>6546</td>\n",
              "      <td>AMBERRPAR</td>\n",
              "      <td>#ste Traitor Jeff Flake is Now Defending Obama...</td>\n",
              "      <td>Unknown</td>\n",
              "      <td>English</td>\n",
              "      <td>2017-08-08</td>\n",
              "      <td>0</td>\n",
              "      <td>0</td>\n",
              "      <td>RETWEET</td>\n",
              "      <td>Right</td>\n",
              "      <td>1</td>\n",
              "      <td>RightTroll</td>\n",
              "      <td>894788841764134912</td>\n",
              "      <td>http://twitter.com/894787222964101120/statuses...</td>\n",
              "      <td>https://twitter.com/sterllarTR/status/89474205...</td>\n",
              "      <td>http://ift.tt/2ujneoF</td>\n",
              "      <td>NaN</td>\n",
              "    </tr>\n",
              "    <tr>\n",
              "      <th>44994</th>\n",
              "      <td>45066</td>\n",
              "      <td>ASHLEEYWES</td>\n",
              "      <td>It has hurt the country, it has hurt the Presi...</td>\n",
              "      <td>Unknown</td>\n",
              "      <td>English</td>\n",
              "      <td>2017-08-09</td>\n",
              "      <td>0</td>\n",
              "      <td>0</td>\n",
              "      <td>QUOTE_TWEET</td>\n",
              "      <td>Right</td>\n",
              "      <td>1</td>\n",
              "      <td>RightTroll</td>\n",
              "      <td>895340434297409537</td>\n",
              "      <td>http://twitter.com/895220436581191681/statuses...</td>\n",
              "      <td>https://twitter.com/DebAlwaystrump/status/8953...</td>\n",
              "      <td>NaN</td>\n",
              "      <td>NaN</td>\n",
              "    </tr>\n",
              "    <tr>\n",
              "      <th>25483</th>\n",
              "      <td>25522</td>\n",
              "      <td>ASWWIMMORRIS</td>\n",
              "      <td>#rums Patricia McCarthy “Mueller Has Already D...</td>\n",
              "      <td>Unknown</td>\n",
              "      <td>English</td>\n",
              "      <td>2017-08-09</td>\n",
              "      <td>0</td>\n",
              "      <td>0</td>\n",
              "      <td>RETWEET</td>\n",
              "      <td>Right</td>\n",
              "      <td>1</td>\n",
              "      <td>RightTroll</td>\n",
              "      <td>895225601648447488</td>\n",
              "      <td>http://twitter.com/895224264424648704/statuses...</td>\n",
              "      <td>https://twitter.com/antonrumss/status/89521694...</td>\n",
              "      <td>http://ift.tt/2uoBVuT</td>\n",
              "      <td>NaN</td>\n",
              "    </tr>\n",
              "    <tr>\n",
              "      <th>18560</th>\n",
              "      <td>18591</td>\n",
              "      <td>ASWWIMMORRIS</td>\n",
              "      <td>#rums BREAKING : U.S. Air Force Responds to No...</td>\n",
              "      <td>Unknown</td>\n",
              "      <td>English</td>\n",
              "      <td>2017-08-09</td>\n",
              "      <td>0</td>\n",
              "      <td>0</td>\n",
              "      <td>RETWEET</td>\n",
              "      <td>Right</td>\n",
              "      <td>1</td>\n",
              "      <td>RightTroll</td>\n",
              "      <td>895225562716942336</td>\n",
              "      <td>http://twitter.com/895224264424648704/statuses...</td>\n",
              "      <td>https://twitter.com/antonrumss/status/89511514...</td>\n",
              "      <td>http://ift.tt/2vLl4ll</td>\n",
              "      <td>NaN</td>\n",
              "    </tr>\n",
              "    <tr>\n",
              "      <th>21227</th>\n",
              "      <td>21261</td>\n",
              "      <td>ASWWIMMORRIS</td>\n",
              "      <td>#rums BREAKING! The DOJ Has Outed Mueller! htt...</td>\n",
              "      <td>Unknown</td>\n",
              "      <td>English</td>\n",
              "      <td>2017-08-09</td>\n",
              "      <td>0</td>\n",
              "      <td>0</td>\n",
              "      <td>RETWEET</td>\n",
              "      <td>Right</td>\n",
              "      <td>1</td>\n",
              "      <td>RightTroll</td>\n",
              "      <td>895225622024384512</td>\n",
              "      <td>http://twitter.com/895224264424648704/statuses...</td>\n",
              "      <td>https://twitter.com/antonrumss/status/89522075...</td>\n",
              "      <td>http://ift.tt/2vitfFi</td>\n",
              "      <td>NaN</td>\n",
              "    </tr>\n",
              "    <tr>\n",
              "      <th>30785</th>\n",
              "      <td>30835</td>\n",
              "      <td>ASWWIMMORRIS</td>\n",
              "      <td>#rums VIDEO : Lynch’s Use of Fake Identity Sho...</td>\n",
              "      <td>Unknown</td>\n",
              "      <td>English</td>\n",
              "      <td>2017-08-09</td>\n",
              "      <td>0</td>\n",
              "      <td>0</td>\n",
              "      <td>RETWEET</td>\n",
              "      <td>Right</td>\n",
              "      <td>1</td>\n",
              "      <td>RightTroll</td>\n",
              "      <td>895225512272039936</td>\n",
              "      <td>http://twitter.com/895224264424648704/statuses...</td>\n",
              "      <td>https://twitter.com/antonrumss/status/89511510...</td>\n",
              "      <td>http://ift.tt/2hHImmP</td>\n",
              "      <td>NaN</td>\n",
              "    </tr>\n",
              "    <tr>\n",
              "      <th>42878</th>\n",
              "      <td>42946</td>\n",
              "      <td>ASHLEEYWES</td>\n",
              "      <td>Come on Arizona do something for your country ...</td>\n",
              "      <td>Unknown</td>\n",
              "      <td>English</td>\n",
              "      <td>2017-08-10</td>\n",
              "      <td>0</td>\n",
              "      <td>0</td>\n",
              "      <td>QUOTE_TWEET</td>\n",
              "      <td>Right</td>\n",
              "      <td>1</td>\n",
              "      <td>RightTroll</td>\n",
              "      <td>895479696934260736</td>\n",
              "      <td>http://twitter.com/895220436581191681/statuses...</td>\n",
              "      <td>https://twitter.com/kelliwardaz/status/8954744...</td>\n",
              "      <td>NaN</td>\n",
              "      <td>NaN</td>\n",
              "    </tr>\n",
              "    <tr>\n",
              "      <th>27660</th>\n",
              "      <td>27706</td>\n",
              "      <td>AURRLISTR</td>\n",
              "      <td>RT beermanTom: Remember when #fakenews Pooh Po...</td>\n",
              "      <td>United States</td>\n",
              "      <td>English</td>\n",
              "      <td>2017-08-11</td>\n",
              "      <td>0</td>\n",
              "      <td>0</td>\n",
              "      <td>QUOTE_TWEET</td>\n",
              "      <td>Right</td>\n",
              "      <td>1</td>\n",
              "      <td>RightTroll</td>\n",
              "      <td>895857846952349696</td>\n",
              "      <td>http://twitter.com/895227796661915648/statuses...</td>\n",
              "      <td>https://twitter.com/ChristieC733/status/895844...</td>\n",
              "      <td>NaN</td>\n",
              "      <td>NaN</td>\n",
              "    </tr>\n",
              "    <tr>\n",
              "      <th>16463</th>\n",
              "      <td>16490</td>\n",
              "      <td>AURRLISTR</td>\n",
              "      <td>RT Annhawks3: That's right!  Come on 2018! 💥👊W...</td>\n",
              "      <td>United States</td>\n",
              "      <td>English</td>\n",
              "      <td>2017-08-11</td>\n",
              "      <td>0</td>\n",
              "      <td>0</td>\n",
              "      <td>QUOTE_TWEET</td>\n",
              "      <td>Right</td>\n",
              "      <td>1</td>\n",
              "      <td>RightTroll</td>\n",
              "      <td>896099617091100673</td>\n",
              "      <td>http://twitter.com/895227796661915648/statuses...</td>\n",
              "      <td>https://twitter.com/obiwankekobi/status/893908...</td>\n",
              "      <td>NaN</td>\n",
              "      <td>NaN</td>\n",
              "    </tr>\n",
              "    <tr>\n",
              "      <th>33400</th>\n",
              "      <td>33453</td>\n",
              "      <td>AURRLISTR</td>\n",
              "      <td>RT RealJamesWoods: ICYMI.... https://t.co/bp9F...</td>\n",
              "      <td>United States</td>\n",
              "      <td>English</td>\n",
              "      <td>2017-08-11</td>\n",
              "      <td>0</td>\n",
              "      <td>0</td>\n",
              "      <td>QUOTE_TWEET</td>\n",
              "      <td>Right</td>\n",
              "      <td>1</td>\n",
              "      <td>RightTroll</td>\n",
              "      <td>895873973442891777</td>\n",
              "      <td>http://twitter.com/895227796661915648/statuses...</td>\n",
              "      <td>https://twitter.com/kamalaharris/status/895339...</td>\n",
              "      <td>NaN</td>\n",
              "      <td>NaN</td>\n",
              "    </tr>\n",
              "    <tr>\n",
              "      <th>19936</th>\n",
              "      <td>19968</td>\n",
              "      <td>AURRLISTR</td>\n",
              "      <td>RT americashawk: #NeverForget #OttoWarmbier  T...</td>\n",
              "      <td>United States</td>\n",
              "      <td>English</td>\n",
              "      <td>2017-08-12</td>\n",
              "      <td>0</td>\n",
              "      <td>0</td>\n",
              "      <td>QUOTE_TWEET</td>\n",
              "      <td>Right</td>\n",
              "      <td>1</td>\n",
              "      <td>RightTroll</td>\n",
              "      <td>896165928945111041</td>\n",
              "      <td>http://twitter.com/895227796661915648/statuses...</td>\n",
              "      <td>https://twitter.com/DRUDGE_REPORT/status/89615...</td>\n",
              "      <td>NaN</td>\n",
              "      <td>NaN</td>\n",
              "    </tr>\n",
              "    <tr>\n",
              "      <th>35326</th>\n",
              "      <td>35382</td>\n",
              "      <td>AURRLISTR</td>\n",
              "      <td>RT ArizonaCowboy46: P U K E!!! https://t.co/Bh...</td>\n",
              "      <td>United States</td>\n",
              "      <td>English</td>\n",
              "      <td>2017-08-12</td>\n",
              "      <td>0</td>\n",
              "      <td>0</td>\n",
              "      <td>QUOTE_TWEET</td>\n",
              "      <td>Right</td>\n",
              "      <td>1</td>\n",
              "      <td>RightTroll</td>\n",
              "      <td>896312860594327552</td>\n",
              "      <td>http://twitter.com/895227796661915648/statuses...</td>\n",
              "      <td>https://twitter.com/twitchyteam/status/8958758...</td>\n",
              "      <td>NaN</td>\n",
              "      <td>NaN</td>\n",
              "    </tr>\n",
              "    <tr>\n",
              "      <th>6891</th>\n",
              "      <td>6903</td>\n",
              "      <td>ASWWIMMORRIS</td>\n",
              "      <td>RT realJamesAllsup: White men are tired of bei...</td>\n",
              "      <td>Unknown</td>\n",
              "      <td>English</td>\n",
              "      <td>2017-08-12</td>\n",
              "      <td>0</td>\n",
              "      <td>0</td>\n",
              "      <td>QUOTE_TWEET</td>\n",
              "      <td>Right</td>\n",
              "      <td>1</td>\n",
              "      <td>RightTroll</td>\n",
              "      <td>896418556799275011</td>\n",
              "      <td>http://twitter.com/895224264424648704/statuses...</td>\n",
              "      <td>https://twitter.com/mattmfm/status/89623619787...</td>\n",
              "      <td>NaN</td>\n",
              "      <td>NaN</td>\n",
              "    </tr>\n",
              "    <tr>\n",
              "      <th>6125</th>\n",
              "      <td>6135</td>\n",
              "      <td>ASHLEEYWES</td>\n",
              "      <td>CoryGardner We need to call it what it is the ...</td>\n",
              "      <td>Unknown</td>\n",
              "      <td>English</td>\n",
              "      <td>2017-08-13</td>\n",
              "      <td>0</td>\n",
              "      <td>0</td>\n",
              "      <td>QUOTE_TWEET</td>\n",
              "      <td>Right</td>\n",
              "      <td>1</td>\n",
              "      <td>RightTroll</td>\n",
              "      <td>896636983937728516</td>\n",
              "      <td>http://twitter.com/895220436581191681/statuses...</td>\n",
              "      <td>https://twitter.com/caterhamcr3/status/8966271...</td>\n",
              "      <td>NaN</td>\n",
              "      <td>NaN</td>\n",
              "    </tr>\n",
              "    <tr>\n",
              "      <th>7291</th>\n",
              "      <td>7303</td>\n",
              "      <td>ASHLEEYWES</td>\n",
              "      <td>KKK was started by Democrats JudgeJeanine http...</td>\n",
              "      <td>Unknown</td>\n",
              "      <td>English</td>\n",
              "      <td>2017-08-13</td>\n",
              "      <td>0</td>\n",
              "      <td>0</td>\n",
              "      <td>QUOTE_TWEET</td>\n",
              "      <td>Right</td>\n",
              "      <td>1</td>\n",
              "      <td>RightTroll</td>\n",
              "      <td>896558468118835200</td>\n",
              "      <td>http://twitter.com/895220436581191681/statuses...</td>\n",
              "      <td>https://twitter.com/DineshDSouza/status/896421...</td>\n",
              "      <td>NaN</td>\n",
              "      <td>NaN</td>\n",
              "    </tr>\n",
              "    <tr>\n",
              "      <th>18152</th>\n",
              "      <td>18182</td>\n",
              "      <td>ASWWIMMORRIS</td>\n",
              "      <td>RT 4TheJerseyKid: SonofLiberty357     How prop...</td>\n",
              "      <td>Unknown</td>\n",
              "      <td>English</td>\n",
              "      <td>2017-08-13</td>\n",
              "      <td>0</td>\n",
              "      <td>0</td>\n",
              "      <td>QUOTE_TWEET</td>\n",
              "      <td>Right</td>\n",
              "      <td>1</td>\n",
              "      <td>RightTroll</td>\n",
              "      <td>896569559297208320</td>\n",
              "      <td>http://twitter.com/895224264424648704/statuses...</td>\n",
              "      <td>https://twitter.com/SonofLiberty357/status/896...</td>\n",
              "      <td>NaN</td>\n",
              "      <td>NaN</td>\n",
              "    </tr>\n",
              "  </tbody>\n",
              "</table>\n",
              "</div>"
            ],
            "text/plain": [
              "       Unnamed: 0        author  ...             tco2_step1 tco3_step1\n",
              "37401       37458    ABOUTPOLIT  ...  http://cnn.it/29N4gkJ        NaN\n",
              "10220       10238    ABOUTPOLIT  ...                    NaN        NaN\n",
              "7662         7676   AMBERLINETR  ...  http://ift.tt/2u0iNOO        NaN\n",
              "44996       45068   AMBERLINETR  ...  http://ift.tt/2tLqahW        NaN\n",
              "9719         9737   AMBERLINETR  ...  http://ift.tt/2u0tgtx        NaN\n",
              "226           227     AFEELIUTR  ...  http://ift.tt/2uL9i86        NaN\n",
              "20252       20284       ARABMTR  ...  http://ift.tt/2tLFhnk        NaN\n",
              "3891         3899      ALIISTRR  ...  http://ift.tt/2eUXdJJ        NaN\n",
              "34526       34580       ARABMTR  ...  http://ift.tt/2v5rPhS        NaN\n",
              "37350       37407       ARABMTR  ...  http://ift.tt/2uL9i86        NaN\n",
              "47230       47307       ARABMTR  ...  http://ift.tt/2eUXdJJ        NaN\n",
              "5575         5585     AFEELIUTR  ...  http://ift.tt/2haLmaS        NaN\n",
              "1884         1886     ARAGARTRR  ...  http://ift.tt/2uKDRLb        NaN\n",
              "7289         7301     AFEELIUTR  ...  http://ift.tt/2eUXdJJ        NaN\n",
              "40196       40260       ARABMTR  ...  http://ift.tt/2v5f1rL        NaN\n",
              "46808       46883      ALIISTRR  ...  http://ift.tt/2haLmaS        NaN\n",
              "14529       14553      ALIISTRR  ...  http://ift.tt/2tKW8GP        NaN\n",
              "34302       34356     ARAGARTRR  ...  http://ift.tt/2haLmaS        NaN\n",
              "26642       26687     ADRIASNSS  ...  http://ift.tt/2v2e8Qd        NaN\n",
              "12290       12311     ADNNELSTR  ...  http://ift.tt/2vvc2IY        NaN\n",
              "10750       10769     ADRIASNSS  ...  http://ift.tt/2v1RI1b        NaN\n",
              "44966       45038     ADRIASNSS  ...  http://ift.tt/2fdqtve        NaN\n",
              "30658       30708     AMBERRPAR  ...  http://ift.tt/2hFinwu        NaN\n",
              "30298       30348     ANAAISLEC  ...  http://ift.tt/2wCtdWp        NaN\n",
              "27470       27516     AMBERRPAR  ...  http://ift.tt/2foGLlb        NaN\n",
              "14039       14062     ANAAISLEC  ...  http://ift.tt/2hEEqDq        NaN\n",
              "16251       16278     ANAAISLEC  ...  http://ift.tt/2ujneoF        NaN\n",
              "41638       41705     ANAAISLEC  ...  http://ift.tt/2foNBaq        NaN\n",
              "8895         8909     ANAAISLEC  ...  http://ift.tt/2hEN0lo        NaN\n",
              "19182       19214     ANAAISLEC  ...  http://ift.tt/2vJgAMW        NaN\n",
              "6534         6546     AMBERRPAR  ...  http://ift.tt/2ujneoF        NaN\n",
              "44994       45066    ASHLEEYWES  ...                    NaN        NaN\n",
              "25483       25522  ASWWIMMORRIS  ...  http://ift.tt/2uoBVuT        NaN\n",
              "18560       18591  ASWWIMMORRIS  ...  http://ift.tt/2vLl4ll        NaN\n",
              "21227       21261  ASWWIMMORRIS  ...  http://ift.tt/2vitfFi        NaN\n",
              "30785       30835  ASWWIMMORRIS  ...  http://ift.tt/2hHImmP        NaN\n",
              "42878       42946    ASHLEEYWES  ...                    NaN        NaN\n",
              "27660       27706     AURRLISTR  ...                    NaN        NaN\n",
              "16463       16490     AURRLISTR  ...                    NaN        NaN\n",
              "33400       33453     AURRLISTR  ...                    NaN        NaN\n",
              "19936       19968     AURRLISTR  ...                    NaN        NaN\n",
              "35326       35382     AURRLISTR  ...                    NaN        NaN\n",
              "6891         6903  ASWWIMMORRIS  ...                    NaN        NaN\n",
              "6125         6135    ASHLEEYWES  ...                    NaN        NaN\n",
              "7291         7303    ASHLEEYWES  ...                    NaN        NaN\n",
              "18152       18182  ASWWIMMORRIS  ...                    NaN        NaN\n",
              "\n",
              "[46 rows x 17 columns]"
            ]
          },
          "metadata": {
            "tags": []
          },
          "execution_count": 56
        }
      ]
    },
    {
      "cell_type": "code",
      "metadata": {
        "colab": {
          "base_uri": "https://localhost:8080/"
        },
        "id": "O7oSseLuyVrI",
        "outputId": "1a2fa3ab-2fa4-4767-a078-840d33db79e5"
      },
      "source": [
        "#unique authors from df_fake\n",
        "df_fake.author.unique()"
      ],
      "execution_count": 57,
      "outputs": [
        {
          "output_type": "execute_result",
          "data": {
            "text/plain": [
              "array(['ABOUTPOLIT', 'AMBERLINETR', 'AFEELIUTR', 'ARABMTR', 'ALIISTRR',\n",
              "       'ARAGARTRR', 'ADRIASNSS', 'ADNNELSTR', 'AMBERRPAR', 'ANAAISLEC',\n",
              "       'ASHLEEYWES', 'ASWWIMMORRIS', 'AURRLISTR'], dtype=object)"
            ]
          },
          "metadata": {
            "tags": []
          },
          "execution_count": 57
        }
      ]
    },
    {
      "cell_type": "markdown",
      "metadata": {
        "id": "1iiK4PaCzHqC"
      },
      "source": [
        "AS you can see from above analyses most tweets have the same amount of retweets and with no followers and no followings. this makes it more suspicious and fake accounts"
      ]
    },
    {
      "cell_type": "code",
      "metadata": {
        "id": "j2WS9NVxzFTR"
      },
      "source": [
        ""
      ],
      "execution_count": null,
      "outputs": []
    }
  ]
}